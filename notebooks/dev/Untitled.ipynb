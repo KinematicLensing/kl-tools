{
 "cells": [
  {
   "cell_type": "code",
   "execution_count": 99,
   "metadata": {},
   "outputs": [],
   "source": [
    "import galsim as gs\n",
    "from galsim import Angle, radians\n",
    "import galsim.roman as roman\n",
    "import numpy as np\n",
    "import matplotlib.pyplot as plt"
   ]
  },
  {
   "cell_type": "code",
   "execution_count": 81,
   "metadata": {},
   "outputs": [
    {
     "name": "stdout",
     "output_type": "stream",
     "text": [
      "Generating test image\n",
      "--- build GSObject\n",
      "CPU times: user 28 µs, sys: 0 ns, total: 28 µs\n",
      "Wall time: 33.1 µs\n",
      "--- draw no_pixel image\n",
      "CPU times: user 1.22 ms, sys: 223 µs, total: 1.44 ms\n",
      "Wall time: 1.45 ms\n",
      "--- draw auto image\n",
      "CPU times: user 1.26 ms, sys: 206 µs, total: 1.47 ms\n",
      "Wall time: 1.44 ms\n",
      "\n",
      "Reconstructing GSObject from array\n",
      "--- build image\n",
      "CPU times: user 39 µs, sys: 2 µs, total: 41 µs\n",
      "Wall time: 44.1 µs\n",
      "--- build GSObject\n",
      "CPU times: user 2.63 ms, sys: 175 µs, total: 2.8 ms\n",
      "Wall time: 2.73 ms\n",
      "--- draw no_pixel image\n",
      "CPU times: user 525 µs, sys: 56 µs, total: 581 µs\n",
      "Wall time: 575 µs\n",
      "--- draw auto image\n",
      "CPU times: user 2.98 ms, sys: 175 µs, total: 3.15 ms\n",
      "Wall time: 3.12 ms\n",
      "\n",
      " Try PSF convolution and draw image with different scale, dimension and offset\n",
      "--- generate PSF\n",
      "CPU times: user 18 µs, sys: 0 ns, total: 18 µs\n",
      "Wall time: 21 µs\n",
      "--- convolve\n",
      "CPU times: user 80 µs, sys: 4 µs, total: 84 µs\n",
      "Wall time: 88 µs\n",
      "--- draw auto image\n",
      "CPU times: user 11.4 ms, sys: 443 µs, total: 11.8 ms\n",
      "Wall time: 11.3 ms\n",
      "--- draw no_pixel image\n",
      "CPU times: user 2.45 ms, sys: 219 µs, total: 2.67 ms\n",
      "Wall time: 3.53 ms\n"
     ]
    },
    {
     "data": {
      "text/plain": [
       "<matplotlib.colorbar.Colorbar at 0x11acb33a0>"
      ]
     },
     "execution_count": 81,
     "metadata": {},
     "output_type": "execute_result"
    },
    {
     "data": {
      "image/png": "[encoded data removed]",
      "text/plain": [
       "<Figure size 576x576 with 8 Axes>"
      ]
     },
     "metadata": {
      "needs_background": "light"
     },
     "output_type": "display_data"
    }
   ],
   "source": [
    "# build a test image\n",
    "inc = Angle(np.pi/4., unit=radians)\n",
    "hlr = 0.5\n",
    "q = 0.2\n",
    "Nside = 128\n",
    "\n",
    "fig, axes = plt.subplots(2,2,figsize=[8,8])\n",
    "print(\"Generating test image\")\n",
    "print(\"--- build GSObject\")\n",
    "%time gal = gs.InclinedExponential(inc, half_light_radius=hlr, scale_h_over_r=q)\n",
    "print(\"--- draw no_pixel image\")\n",
    "%time img = gal.drawImage(nx=Nside, ny=Nside, scale=0.1, method='no_pixel', bandpass=None)\n",
    "print(\"--- draw auto image\")\n",
    "%time img_fft = gal.drawImage(nx=Nside, ny=Nside, scale=0.1, method='auto', bandpass=None)\n",
    "data = img.array\n",
    "data_fft = img_fft.array\n",
    "cb1 = axes[0,0].imshow(data)\n",
    "axes[0,0].set_title('original')\n",
    "plt.colorbar(cb1, ax=axes[0,0], orientation='horizontal')\n",
    "\n",
    "# reconstruct GSObject from image data array\n",
    "print(\"\\nReconstructing GSObject from array\")\n",
    "print(\"--- build image\")\n",
    "%time gal_interp_img = gs.Image(data, make_const=True, scale=0.1)\n",
    "print(\"--- build GSObject\")\n",
    "%time gal_interp = gs.InterpolatedImage(gal_interp_img, scale=0.1)\n",
    "print(\"--- draw no_pixel image\")\n",
    "%time data2 = gal_interp.drawImage(nx=Nside, ny=Nside, scale=0.1, method='no_pixel', bandpass=None).array\n",
    "print(\"--- draw auto image\")\n",
    "%time data2_fft = gal_interp.drawImage(nx=Nside, ny=Nside, scale=0.1, method='auto', bandpass=None).array\n",
    "\n",
    "cb2 = axes[0,1].imshow(data2)\n",
    "axes[0,1].set_title(\"Reconstructed\")\n",
    "plt.colorbar(cb2, ax=axes[0,1], orientation='horizontal')\n",
    "\n",
    "#cb3 = axes[1,0].imshow((data2-data))\n",
    "cb3 = axes[1,0].imshow(data2_fft-data_fft)\n",
    "axes[1,0].set_title('difference')\n",
    "plt.colorbar(cb3, ax=axes[1,0], orientation='horizontal')\n",
    "\n",
    "\n",
    "# try PSF convolution, difference pixel scale and offset\n",
    "print(\"\\n Try PSF convolution and draw image with different scale, dimension and offset\")\n",
    "print(\"--- generate PSF\")\n",
    "%time PSF = gs.Moffat(fwhm=0.2, beta=2.5)\n",
    "print(\"--- convolve\")\n",
    "%time final = gs.Convolve([gal_interp, PSF])\n",
    "print('--- draw auto image')\n",
    "%time data3 = final.drawImage(nx=Nside/2,ny=Nside/2,scale=0.11,offset=(100,200), method='auto').array\n",
    "print(\"--- draw no_pixel image\")\n",
    "%time data3 = final.drawImage(nx=Nside/2,ny=Nside/2,scale=0.11,offset=(-10,0), method='no_pixel').array\n",
    "\n",
    "cb4 = axes[1,1].imshow(data3, origin='lower')\n",
    "axes[1,1].set_title('interp')\n",
    "plt.colorbar(cb4, ax=axes[1,1], orientation='horizontal')"
   ]
  },
  {
   "cell_type": "code",
   "execution_count": 26,
   "metadata": {},
   "outputs": [
    {
     "data": {
      "text/plain": [
       "<matplotlib.image.AxesImage at 0x1154783a0>"
      ]
     },
     "execution_count": 26,
     "metadata": {},
     "output_type": "execute_result"
    },
    {
     "data": {
      "image/png": "[encoded data removed]",
      "text/plain": [
       "<Figure size 432x288 with 1 Axes>"
      ]
     },
     "metadata": {
      "needs_background": "light"
     },
     "output_type": "display_data"
    }
   ],
   "source": [
    "plt.imshow(img.array)"
   ]
  },
  {
   "cell_type": "code",
   "execution_count": 30,
   "metadata": {},
   "outputs": [
    {
     "name": "stdout",
     "output_type": "stream",
     "text": [
      "1\n",
      "1\n",
      "0.1\n",
      "galsim.BoundsI(1,64,1,64)\n"
     ]
    }
   ],
   "source": [
    "print(img.xmin)\n",
    "print(img.ymin)\n",
    "print(img.scale)\n",
    "print(img.bounds)"
   ]
  },
  {
   "cell_type": "code",
   "execution_count": 38,
   "metadata": {},
   "outputs": [
    {
     "name": "stdout",
     "output_type": "stream",
     "text": [
      "CPU times: user 55 µs, sys: 10 µs, total: 65 µs\n",
      "Wall time: 59.8 µs\n",
      "CPU times: user 1.35 ms, sys: 839 µs, total: 2.19 ms\n",
      "Wall time: 1.62 ms\n"
     ]
    },
    {
     "data": {
      "text/plain": [
       "<matplotlib.image.AxesImage at 0x1153c4ac0>"
      ]
     },
     "execution_count": 38,
     "metadata": {},
     "output_type": "execute_result"
    },
    {
     "data": {
      "image/png": "[encoded data removed]",
      "text/plain": [
       "<Figure size 432x288 with 1 Axes>"
      ]
     },
     "metadata": {
      "needs_background": "light"
     },
     "output_type": "display_data"
    }
   ],
   "source": []
  },
  {
   "cell_type": "code",
   "execution_count": 42,
   "metadata": {},
   "outputs": [
    {
     "data": {
      "text/plain": [
       "<matplotlib.image.AxesImage at 0x11508dd90>"
      ]
     },
     "execution_count": 42,
     "metadata": {},
     "output_type": "execute_result"
    },
    {
     "data": {
      "image/png": "[encoded data removed]",
      "text/plain": [
       "<Figure size 432x288 with 1 Axes>"
      ]
     },
     "metadata": {
      "needs_background": "light"
     },
     "output_type": "display_data"
    }
   ],
   "source": [
    "PSF = gs.Moffat(fwhm=0.2, beta=2.5)\n",
    "final = gs.Convolve([gal_interp, PSF])\n",
    "plt.imshow(final.drawImage(nx=Nside,ny=Nside,scale=0.05,).array)"
   ]
  },
  {
   "cell_type": "code",
   "execution_count": 87,
   "metadata": {},
   "outputs": [
    {
     "name": "stdout",
     "output_type": "stream",
     "text": [
      "7\n"
     ]
    }
   ],
   "source": [
    "def func(x, y, **kwargs):\n",
    "    c = kwargs.get('c', 0)\n",
    "    d = kwargs.get('d', 0)\n",
    "    e = kwargs.get('e', 0)\n",
    "    return x+y+c+d+e\n",
    "kwargs={\n",
    "    'c':1,\n",
    "    'd':2,\n",
    "    'e':3,\n",
    "}\n",
    "ans = func(0,0,c=1,d=2,e=4)\n",
    "print(ans)"
   ]
  },
  {
   "cell_type": "code",
   "execution_count": 98,
   "metadata": {},
   "outputs": [
    {
     "name": "stdout",
     "output_type": "stream",
     "text": [
      "[[1. 1.]\n",
      " [1. 1.]] [0. 0.] 3\n",
      "---\n",
      "[[1. 1.]\n",
      " [1. 1.]] [0. 0.] 3\n",
      "---\n",
      "[[1. 1.]\n",
      " [1. 1.]] [0. 0.] 3\n",
      "---\n",
      "[[[1. 1.]\n",
      "  [1. 1.]]\n",
      "\n",
      " [[1. 1.]\n",
      "  [1. 1.]]\n",
      "\n",
      " [[1. 1.]\n",
      "  [1. 1.]]] [[0. 0.]\n",
      " [0. 0.]\n",
      " [0. 0.]] [3 3 3]\n",
      "---\n"
     ]
    }
   ],
   "source": [
    "def func2(a,b,c):\n",
    "    print(a,b,c)\n",
    "    print(\"---\")\n",
    "    \n",
    "a = np.ones([3,2,2])\n",
    "b = np.zeros([3,2])\n",
    "c = np.array([3,3,3])\n",
    "list(map(func2,a,b,c))\n",
    "func2(a,b,c)"
   ]
  },
  {
   "cell_type": "code",
   "execution_count": 102,
   "metadata": {},
   "outputs": [
    {
     "name": "stdout",
     "output_type": "stream",
     "text": [
      "CPU times: user 2.04 s, sys: 20.6 ms, total: 2.06 s\n",
      "Wall time: 2.11 s\n",
      "CPU times: user 5.65 ms, sys: 320 µs, total: 5.97 ms\n",
      "Wall time: 5.86 ms\n"
     ]
    },
    {
     "data": {
      "text/plain": [
       "<matplotlib.image.AxesImage at 0x11af1e790>"
      ]
     },
     "execution_count": 102,
     "metadata": {},
     "output_type": "execute_result"
    },
    {
     "data": {
      "image/png": "[encoded data removed]",
      "text/plain": [
       "<Figure size 432x288 with 1 Axes>"
      ]
     },
     "metadata": {
      "needs_background": "light"
     },
     "output_type": "display_data"
    }
   ],
   "source": [
    "imgs = []\n",
    "%time for i in range(1000): imgs.append( final.drawImage(nx=Nside/2,ny=Nside/2,scale=0.11,offset=(0,0+i*0.1), method='auto') )\n",
    "%time img_sum = np.sum(imgs)\n",
    "plt.imshow(img_sum.array)"
   ]
  },
  {
   "cell_type": "code",
   "execution_count": 106,
   "metadata": {},
   "outputs": [
    {
     "name": "stdout",
     "output_type": "stream",
     "text": [
      "(20,) (10,)\n",
      "(10, 20)\n"
     ]
    }
   ],
   "source": [
    "x = np.arange(-1,1,0.1)\n",
    "y = np.arange(3,4,0.1)\n",
    "print(x.shape, y.shape)\n",
    "X, Y = np.meshgrid(x, y)\n",
    "print(X.shape)"
   ]
  },
  {
   "cell_type": "code",
   "execution_count": 128,
   "metadata": {},
   "outputs": [
    {
     "data": {
      "text/plain": [
       "<matplotlib.image.AxesImage at 0x11b5de940>"
      ]
     },
     "execution_count": 128,
     "metadata": {},
     "output_type": "execute_result"
    },
    {
     "data": {
      "image/png": "[encoded data removed]",
      "text/plain": [
       "<Figure size 432x288 with 1 Axes>"
      ]
     },
     "metadata": {
      "needs_background": "light"
     },
     "output_type": "display_data"
    }
   ],
   "source": [
    "gal = gs.InclinedExponential(inclination=Angle(45,radians),\n",
    "                              half_light_radius=0.5, \n",
    "                              scale_h_over_r=0.2, \n",
    "                              flux=1.0)\n",
    "gal = gal.rotate(Angle(np.pi/3., radians))\n",
    "gal = gal.shear(g1=0., g2=0.)\n",
    "img = gal.drawImage(nx=32,ny=32,scale=0.05, method='no_pixel', offset=(-10,-5)).array\n",
    "plt.imshow(img, origin='lower')"
   ]
  },
  {
   "cell_type": "code",
   "execution_count": 133,
   "metadata": {},
   "outputs": [
    {
     "name": "stdout",
     "output_type": "stream",
     "text": [
      "[[0 1 2 3 4]\n",
      " [5 6 7 8 9]]\n",
      "[[0 1]\n",
      " [2 3]\n",
      " [4 5]\n",
      " [6 7]\n",
      " [8 9]]\n",
      "[0 1 2 3 4 5 6 7 8 9]\n"
     ]
    }
   ],
   "source": [
    "a = np.array([0,1,2,3,4,5,6,7,8,9])\n",
    "b = a.reshape((2,5))\n",
    "print(b)\n",
    "c = b.reshape((5,2))\n",
    "print(c)\n",
    "d = c.flatten()\n",
    "print(d)"
   ]
  },
  {
   "cell_type": "code",
   "execution_count": null,
   "metadata": {},
   "outputs": [],
   "source": []
  }
 ],
 "metadata": {
  "kernelspec": {
   "display_name": "kltools",
   "language": "python",
   "name": "kltools"
  },
  "language_info": {
   "codemirror_mode": {
    "name": "ipython",
    "version": 3
   },
   "file_extension": ".py",
   "mimetype": "text/x-python",
   "name": "python",
   "nbconvert_exporter": "python",
   "pygments_lexer": "ipython3",
   "version": "3.9.7"
  }
 },
 "nbformat": 4,
 "nbformat_minor": 2
}
