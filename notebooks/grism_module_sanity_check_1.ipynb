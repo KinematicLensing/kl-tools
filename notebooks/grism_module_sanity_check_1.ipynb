{
 "cells": [
  {
   "cell_type": "code",
   "execution_count": 1,
   "id": "2da7f8a0",
   "metadata": {},
   "outputs": [
    {
     "name": "stdout",
     "output_type": "stream",
     "text": [
      "['/home/jiachuan/kl-tools/notebooks', '/home/jiachuan/anaconda3/envs/kltools/lib/python39.zip', '/home/jiachuan/anaconda3/envs/kltools/lib/python3.9', '/home/jiachuan/anaconda3/envs/kltools/lib/python3.9/lib-dynload', '', '/home/jiachuan/anaconda3/envs/kltools/lib/python3.9/site-packages', '/home/jiachuan/anaconda3/envs/kltools/lib/python3.9/site-packages/GalSim-2.3.4-py3.9-linux-x86_64.egg', '/home/jiachuan/anaconda3/envs/kltools/lib/python3.9/site-packages/kltools_grism_module-0.0.2-py3.9-linux-x86_64.egg', '/home/jiachuan/anaconda3/envs/kltools/lib/python3.9/site-packages/IPython/extensions', '/home/jiachuan/.ipython']\n",
      "0.0.2\n",
      "/home/jiachuan/anaconda3/envs/kltools/lib/python3.9/site-packages/kltools_grism_module-0.0.2-py3.9-linux-x86_64.egg/kltools_grism_module.cpython-39-x86_64-linux-gnu.so\n"
     ]
    }
   ],
   "source": [
    "import importlib\n",
    "import sys\n",
    "print(sys.path)\n",
    "import kltools_grism_module as m\n",
    "importlib.reload(m)\n",
    "print(m.__version__)\n",
    "print(m.__file__)\n",
    "import numpy as np\n",
    "import matplotlib.pyplot as plt"
   ]
  },
  {
   "cell_type": "markdown",
   "id": "17185318",
   "metadata": {},
   "source": [
    "## Checking pixel weight"
   ]
  },
  {
   "cell_type": "code",
   "execution_count": 2,
   "id": "3293bbbd",
   "metadata": {},
   "outputs": [
    {
     "name": "stdout",
     "output_type": "stream",
     "text": [
      "model cube extent:  [-0.85  0.85 -0.85  0.85]\n",
      "obs image extent:  [-1.82  1.82 -1.82  1.82]\n",
      "model cube grid:  [-0.8250000000000001, -0.775, -0.7250000000000001, -0.675, -0.625, -0.5750000000000001, -0.525, -0.47500000000000003, -0.42500000000000004, -0.375, -0.325, -0.275, -0.225, -0.17500000000000002, -0.125, -0.07500000000000001, -0.025, 0.025, 0.07500000000000001, 0.125, 0.17500000000000002, 0.225, 0.275, 0.325, 0.375, 0.42500000000000004, 0.47500000000000003, 0.525, 0.5750000000000001, 0.625, 0.675, 0.7250000000000001, 0.775, 0.8250000000000001]\n",
      "obs img grid:  [-1.7550000000000001, -1.625, -1.495, -1.365, -1.235, -1.105, -0.9750000000000001, -0.845, -0.7150000000000001, -0.585, -0.455, -0.325, -0.195, -0.065, 0.065, 0.195, 0.325, 0.455, 0.585, 0.7150000000000001, 0.845, 0.9750000000000001, 1.105, 1.235, 1.365, 1.495, 1.625, 1.7550000000000001]\n"
     ]
    }
   ],
   "source": [
    "theory_cube_Nx = 34\n",
    "theory_cube_Ny = 34\n",
    "theory_cube_Nlam = 200\n",
    "theory_cube_scale = 0.05\n",
    "observed_image_Nx = 28\n",
    "observed_image_Ny = 28\n",
    "observed_image_scale = 0.13\n",
    "R_spec = 500.0\n",
    "disper_angle = 0.0\n",
    "offset = 00.0\n",
    "################################\n",
    "\n",
    "Rx_obs = int(observed_image_Nx/2) - 0.5 * ((observed_image_Nx - 1) % 2);\n",
    "Ry_obs = int(observed_image_Ny/2) - 0.5 * ((observed_image_Ny - 1) % 2);\n",
    "Rx_theory = int(theory_cube_Nx/2) - 0.5 * ((theory_cube_Nx - 1) % 2);\n",
    "Ry_theory = int(theory_cube_Ny/2) - 0.5 * ((theory_cube_Ny - 1) % 2);\n",
    "\n",
    "extent_theory = np.array([-Rx_theory-0.5, -Rx_theory+0.5+theory_cube_Nx-1, \n",
    "                          -Ry_theory-0.5, -Ry_theory+0.5+theory_cube_Ny-1])*theory_cube_scale\n",
    "extent_obs = np.array([-Rx_obs-0.5, -Rx_obs+0.5+observed_image_Nx-1, \n",
    "                       -Ry_obs-0.5, -Ry_obs+0.5+observed_image_Ny-1])*observed_image_scale\n",
    "Rbin_theory = [(-Rx_theory + i)*theory_cube_scale for i in range(theory_cube_Nx)]\n",
    "Rbin_obs = [(-Rx_obs + i)*observed_image_scale for i in range(observed_image_Nx)]\n",
    "\n",
    "print(\"model cube extent: \", extent_theory)\n",
    "print(\"obs image extent: \", extent_obs)\n",
    "print(\"model cube grid: \", Rbin_theory)\n",
    "print(\"obs img grid: \", Rbin_obs)"
   ]
  },
  {
   "cell_type": "code",
   "execution_count": 9,
   "id": "aa4df534",
   "metadata": {},
   "outputs": [],
   "source": [
    "stat = m.init_pars(theory_cube_Nx,\n",
    "theory_cube_Ny,\n",
    "theory_cube_Nlam,\n",
    "theory_cube_scale,\n",
    "observed_image_Nx,\n",
    "observed_image_Ny,\n",
    "observed_image_scale,\n",
    "R_spec,\n",
    "disper_angle,\n",
    "offset)"
   ]
  },
  {
   "cell_type": "code",
   "execution_count": 10,
   "id": "285270c4",
   "metadata": {},
   "outputs": [
    {
     "name": "stdout",
     "output_type": "stream",
     "text": [
      "Print Pars object:\n",
      "\t - theory_cube_Nx = 34\n",
      "\t - theory_cube_Ny = 34\n",
      "\t - theory_cube_Nlam = 200\n",
      "\t - theory_cube_scale = 0.05\n",
      "\t - observed_image_Nx = 28\n",
      "\t - observed_image_Ny = 28\n",
      "\t - observed_image_scale = 0.13\n",
      "\t - R_spec = 500\n",
      "\t - disper_angle = 0\n",
      "\t - offset = 0\n"
     ]
    }
   ],
   "source": [
    "stat = m.print_Pars()"
   ]
  },
  {
   "cell_type": "code",
   "execution_count": 5,
   "id": "12f30f4d",
   "metadata": {},
   "outputs": [
    {
     "name": "stdout",
     "output_type": "stream",
     "text": [
      "DBVec[0, 0, 0, 0, 0, 0, 0, 0, 0, 0, 0, 0, 0, 0, 0, 0, 0, 0, 0, 0, 0, 0, 0, 0, 0, 0, 0, 0, 0, 0, 0, 0, 0, 0, 0, 0, 0, 0, 0, 0, 0, 0, 0, 0, 0, 0, 0, 0, 0, 0, 0, 0, 0, 0, 0, 0, 0, 0, 0, 0, 0, 0, 0, 0, 0, 0, 0, 0, 0, 0, 0, 0, 0, 0, 0, 0, 0, 0, 0, 0, 0, 0, 0, 0, 0, 0, 0, 0, 0, 0, 0, 0, 0, 0, 0, 0, 0, 0, 0, 0, 0, 0, 0, 0, 0, 0, 0, 0, 0, 0, 0, 0, 0, 0, 0, 0, 0, 0, 0, 0, 0, 0, 0, 0, 0, 0, 0, 0, 0, 0, 0, 0, 0, 0, 0, 0, 0, 0, 0, 0, 0, 0, 0, 0, 0, 0, 0, 0, 0, 0, 0, 0, 0, 0, 0, 0, 0, 0, 0, 0, 0, 0, 0, 0, 0, 0, 0, 0, 0, 0, 0, 0, 0, 0, 0, 0, 0, 0, 0, 0, 0, 0, 0, 0, 0, 0, 0, 0, 0, 0, 0, 0, 0, 0, 0, 0, 0, 0, 0, 0, 0, 0, 0, 0, 0, 0, 0, 0, 0, 0, 0, 0, 0, 0, 0, 0, 0, 0, 0, 0, 0, 0, 0, 0, 0, 0, 0, 0, 0, 0, 0, 0, 0, 0, 0, 0, 0, 0, 0, 0, 0, 0, 0, 0, 0, 0, 0, 0, 0, 0, 0, 0, 0, 0, 0, 0, 0, 0, 0, 0, 0, 0, 0, 0, 0, 0, 0, 0, 0, 0, 0, 0, 0, 0, 0, 0, 0, 0, 0, 0, 0, 0, 0, 0, 0, 0, 0, 0, 0, 0, 0, 0, 0, 0, 0, 0, 0, 0, 0, 0, 0, 0, 0, 0, 0, 0, 0, 0, 0, 0, 0, 0, 0, 0, 0, 0, 0, 0, 0, 0, 0, 0, 0, 0, 0, 0, 0, 0, 0, 0, 0, 0, 0, 0, 0, 0, 0, 0, 0, 0, 0, 0, 0, 0, 0, 0, 0, 0, 0, 0, 0, 0, 0, 0, 0, 0, 0, 0, 0, 0, 0, 0, 0, 0, 0, 0, 0, 0, 0, 0, 0, 0, 0, 0, 0, 0, 0, 0, 0, 0, 0, 0, 0, 0, 0, 0, 0, 0, 0, 0, 0, 0, 0, 0, 0, 0, 0, 0, 0, 0, 0, 0, 0, 0, 0, 0, 0, 0, 0, 0, 0, 0, 0, 0, 0, 0, 0, 0, 0, 0, 0, 0, 0, 0, 0, 0, 0, 0, 0, 0, 0, 0, 0, 0, 0, 0, 0, 0, 0, 0, 0, 0, 0, 0, 0, 0, 0, 0, 0, 0, 0, 0, 0, 0, 0, 0, 0, 0, 0, 0, 0, 0, 0, 0, 0, 0, 0, 0, 0, 0, 0, 0, 0, 0, 0, 0, 0, 0, 0, 0, 0, 0, 0, 0, 0, 0, 0, 0, 0, 0, 0, 0, 0, 0, 0, 0, 0, 0, 0, 0, 0, 0, 0, 0, 0, 0, 0, 0, 0, 0, 0, 0, 0, 0, 0, 0, 0, 0, 0, 0, 0, 0, 0, 0, 0, 0, 0, 0, 0, 0, 0, 0, 0, 0, 0, 0, 0, 0, 0, 0, 0, 0, 0, 0, 0, 0, 0, 0, 0, 0, 0, 0, 0, 0, 0, 0, 0, 0, 0, 0, 0, 0, 0, 0, 0, 0, 0, 0, 0, 0, 0, 0, 0, 0, 0, 0, 0, 0, 0, 0, 0, 0, 0, 0, 0, 0, 0, 0, 0, 0, 0, 0, 0, 0, 0, 0, 0, 0, 0, 0, 0, 0, 0, 0, 0, 0, 0, 0, 0, 0, 0, 0, 0, 0, 0, 0, 0, 0, 0, 0, 0, 0, 0, 0, 0, 0, 0, 0, 0, 0, 0, 0, 0, 0, 0, 0, 0, 0, 0, 0, 0, 0, 0, 0, 0, 0, 0, 0, 0, 0, 0, 0, 0, 0, 0, 0, 0, 0, 0, 0, 0, 0, 0, 0, 0, 0, 0, 0, 0, 0, 0, 0, 0, 0, 0, 0, 0, 0, 0, 0, 0, 0, 0, 0, 0, 0, 0, 0, 0, 0, 0, 0, 0, 0, 0, 0, 0, 0, 0, 0, 0, 0, 0, 0, 0, 0, 0, 0, 0, 0, 0, 0, 0, 0, 0, 0, 0, 0, 0, 0, 0, 0, 0, 0, 0, 0, 0, 0, 0, 0, 0, 0, 0, 0, 0, 0, 0, 0, 0, 0, 0, 0, 0, 0, 0, 0, 0, 0, 0, 0, 0, 0, 0, 0, 0, 0, 0, 0, 0, 0, 0, 0, 0, 0, 0, 0, 0, 0, 0, 0, 0, 0, 0, 0, 0, 0, 0, 0, 0, 0, 0, 0, 0, 0]\n",
      "DBVec[-100, -99, -99, -98, -98, -97, -97, -96, -96, -95, -95, -94, -94, -93, -93, -92, -92, -91, -91, -90, -90, -89, -89, -88, -88, -87, -87, -86, -86, -85, -85, -84, -84, -83, -83, -82, -82, -81, -81, -80, -80, -79, -79, -78, -78, -77, -77, -76, -76, -75, -75, -74, -74, -73, -73, -72, -72, -71, -71, -70, -70, -69, -69, -68, -68, -67, -67, -66, -66, -65, -65, -64, -64, -63, -63, -62, -62, -61, -61, -60, -60, -59, -59, -58, -58, -57, -57, -56, -56, -55, -55, -54, -54, -53, -53, -52, -52, -51, -51, -50, -50, -49, -49, -48, -48, -47, -47, -46, -46, -45, -45, -44, -44, -43, -43, -42, -42, -41, -41, -40, -40, -39, -39, -38, -38, -37, -37, -36, -36, -35, -35, -34, -34, -33, -33, -32, -32, -31, -31, -30, -30, -29, -29, -28, -28, -27, -27, -26, -26, -25, -25, -24, -24, -23, -23, -22, -22, -21, -21, -20, -20, -19, -19, -18, -18, -17, -17, -16, -16, -15, -15, -14, -14, -13, -13, -12, -12, -11, -11, -10, -10, -9, -9, -8, -8, -7, -7, -6, -6, -5, -5, -4, -4, -3, -3, -2, -2, -1, -1, 0, 0, 1, 1, 2, 2, 3, 3, 4, 4, 5, 5, 6, 6, 7, 7, 8, 8, 9, 9, 10, 10, 11, 11, 12, 12, 13, 13, 14, 14, 15, 15, 16, 16, 17, 17, 18, 18, 19, 19, 20, 20, 21, 21, 22, 22, 23, 23, 24, 24, 25, 25, 26, 26, 27, 27, 28, 28, 29, 29, 30, 30, 31, 31, 32, 32, 33, 33, 34, 34, 35, 35, 36, 36, 37, 37, 38, 38, 39, 39, 40, 40, 41, 41, 42, 42, 43, 43, 44, 44, 45, 45, 46, 46, 47, 47, 48, 48, 49, 49, 50, 50, 51, 51, 52, 52, 53, 53, 54, 54, 55, 55, 56, 56, 57, 57, 58, 58, 59, 59, 60, 60, 61, 61, 62, 62, 63, 63, 64, 64, 65, 65, 66, 66, 67, 67, 68, 68, 69, 69, 70, 70, 71, 71, 72, 72, 73, 73, 74, 74, 75, 75, 76, 76, 77, 77, 78, 78, 79, 79, 80, 80, 81, 81, 82, 82, 83, 83, 84, 84, 85, 85, 86, 86, 87, 87, 88, 88, 89, 89, 90, 90, 91, 91, 92, 92, 93, 93, 94, 94, 95, 95, 96, 96, 97, 97, 98, 98, 99, 99, 100]\n"
     ]
    }
   ],
   "source": [
    "_theory_cube = np.ones([theory_cube_Nlam, theory_cube_Ny, theory_cube_Nx])\n",
    "_lambdas = np.zeros([theory_cube_Nlam, 2])\n",
    "for i in range(theory_cube_Nlam):\n",
    "    _lambdas[i][0] = -100 + i*1\n",
    "    _lambdas[i][1] = -100 + (i+1)*1\n",
    "_bandpasses = np.ones([theory_cube_Nlam, 2])\n",
    "_dispersed_data = np.zeros([observed_image_Ny, observed_image_Nx])\n",
    "\n",
    "theory_cube = m.DBVec(_theory_cube.flatten())\n",
    "lambdas = m.DBVec(_lambdas.flatten())\n",
    "bandpasses = m.DBVec(_bandpasses.flatten())\n",
    "dispersed_data = m.DBVec(_dispersed_data.flatten())\n",
    "print(dispersed_data)\n",
    "print(lambdas)"
   ]
  },
  {
   "cell_type": "code",
   "execution_count": 11,
   "id": "422ac2f8",
   "metadata": {},
   "outputs": [
    {
     "name": "stdout",
     "output_type": "stream",
     "text": [
      "CPU times: user 12.9 ms, sys: 51 µs, total: 13 msRx_theory = 16.5\n",
      "Init X grid (theory cube): \n",
      "-0.825 -0.775 -0.725 -0.675 -0.625 -0.575 -0.525 -0.475 -0.425 -0.375 -0.325 -0.275 -0.225 -0.175 -0.125 -0.075 -0.025 0.025 0.075 0.125 0.175 0.225 0.275 0.325 0.375 0.425 0.475 0.525 0.575 0.625 0.675 0.725 0.775 0.825 \n",
      "Init Y grid (theory cube): \n",
      "\n",
      "Wall time: 12.5 ms\n",
      "-0.825 -0.775 -0.725 -0.675 -0.625 -0.575 -0.525 -0.475 -0.425 -0.375 -0.325 -0.275 -0.225 -0.175 -0.125 -0.075 -0.025 0.025 0.075 0.125 0.175 0.225 0.275 0.325 0.375 0.425 0.475 0.525 0.575 0.625 0.675 0.725 0.775 0.825 \n",
      "corner of the theory cube frame: -0.85-0.85\n",
      "Rs_obs = 13.5\n",
      "Init X grid (observed image): \n",
      "-1.755 -1.625 -1.495 -1.365 -1.235 -1.105 -0.975 -0.845 -0.715 -0.585 -0.455 -0.325 -0.195 -0.065 0.065 0.195 0.325 0.455 0.585 0.715 0.845 0.975 1.105 1.235 1.365 1.495 1.625 1.755 \n",
      "Init Y grid (observed image): \n",
      "-1.755 -1.625 -1.495 -1.365 -1.235 -1.105 -0.975 -0.845 -0.715 -0.585 -0.455 -0.325 -0.195 -0.065 0.065 0.195 0.325 0.455 0.585 0.715 0.845 0.975 1.105 1.235 1.365 1.495 1.625 1.755 \n",
      "slice 0 shift = (-99.5, -0)mean wavelength = -99.5\n",
      "slice 1 shift = (-98.5, -0)mean wavelength = -98.5\n",
      "slice 2 shift = (-97.5, -0)mean wavelength = -97.5\n",
      "slice 3 shift = (-96.5, -0)mean wavelength = -96.5\n",
      "slice 4 shift = (-95.5, -0)mean wavelength = -95.5\n",
      "slice 5 shift = (-94.5, -0)mean wavelength = -94.5\n",
      "slice 6 shift = (-93.5, -0)mean wavelength = -93.5\n",
      "slice 7 shift = (-92.5, -0)mean wavelength = -92.5\n",
      "slice 8 shift = (-91.5, -0)mean wavelength = -91.5\n",
      "slice 9 shift = (-90.5, -0)mean wavelength = -90.5\n",
      "slice 10 shift = (-89.5, -0)mean wavelength = -89.5\n",
      "slice 11 shift = (-88.5, -0)mean wavelength = -88.5\n",
      "slice 12 shift = (-87.5, -0)mean wavelength = -87.5\n",
      "slice 13 shift = (-86.5, -0)mean wavelength = -86.5\n",
      "slice 14 shift = (-85.5, -0)mean wavelength = -85.5\n",
      "slice 15 shift = (-84.5, -0)mean wavelength = -84.5\n",
      "slice 16 shift = (-83.5, -0)mean wavelength = -83.5\n",
      "slice 17 shift = (-82.5, -0)mean wavelength = -82.5\n",
      "slice 18 shift = (-81.5, -0)mean wavelength = -81.5\n",
      "slice 19 shift = (-80.5, -0)mean wavelength = -80.5\n",
      "slice 20 shift = (-79.5, -0)mean wavelength = -79.5\n",
      "slice 21 shift = (-78.5, -0)mean wavelength = -78.5\n",
      "slice 22 shift = (-77.5, -0)mean wavelength = -77.5\n",
      "slice 23 shift = (-76.5, -0)mean wavelength = -76.5\n",
      "slice 24 shift = (-75.5, -0)mean wavelength = -75.5\n",
      "slice 25 shift = (-74.5, -0)mean wavelength = -74.5\n",
      "slice 26 shift = (-73.5, -0)mean wavelength = -73.5\n",
      "slice 27 shift = (-72.5, -0)mean wavelength = -72.5\n",
      "slice 28 shift = (-71.5, -0)mean wavelength = -71.5\n",
      "slice 29 shift = (-70.5, -0)mean wavelength = -70.5\n",
      "slice 30 shift = (-69.5, -0)mean wavelength = -69.5\n",
      "slice 31 shift = (-68.5, -0)mean wavelength = -68.5\n",
      "slice 32 shift = (-67.5, -0)mean wavelength = -67.5\n",
      "slice 33 shift = (-66.5, -0)mean wavelength = -66.5\n",
      "slice 34 shift = (-65.5, -0)mean wavelength = -65.5\n",
      "slice 35 shift = (-64.5, -0)mean wavelength = -64.5\n",
      "slice 36 shift = (-63.5, -0)mean wavelength = -63.5\n",
      "slice 37 shift = (-62.5, -0)mean wavelength = -62.5\n",
      "slice 38 shift = (-61.5, -0)mean wavelength = -61.5\n",
      "slice 39 shift = (-60.5, -0)mean wavelength = -60.5\n",
      "slice 40 shift = (-59.5, -0)mean wavelength = -59.5\n",
      "slice 41 shift = (-58.5, -0)mean wavelength = -58.5\n",
      "slice 42 shift = (-57.5, -0)mean wavelength = -57.5\n",
      "slice 43 shift = (-56.5, -0)mean wavelength = -56.5\n",
      "slice 44 shift = (-55.5, -0)mean wavelength = -55.5\n",
      "slice 45 shift = (-54.5, -0)mean wavelength = -54.5\n",
      "slice 46 shift = (-53.5, -0)mean wavelength = -53.5\n",
      "slice 47 shift = (-52.5, -0)mean wavelength = -52.5\n",
      "slice 48 shift = (-51.5, -0)mean wavelength = -51.5\n",
      "slice 49 shift = (-50.5, -0)mean wavelength = -50.5\n",
      "slice 50 shift = (-49.5, -0)mean wavelength = -49.5\n",
      "slice 51 shift = (-48.5, -0)mean wavelength = -48.5\n",
      "slice 52 shift = (-47.5, -0)mean wavelength = -47.5\n",
      "slice 53 shift = (-46.5, -0)mean wavelength = -46.5\n",
      "slice 54 shift = (-45.5, -0)mean wavelength = -45.5\n",
      "slice 55 shift = (-44.5, -0)mean wavelength = -44.5\n",
      "slice 56 shift = (-43.5, -0)mean wavelength = -43.5\n",
      "slice 57 shift = (-42.5, -0)mean wavelength = -42.5\n",
      "slice 58 shift = (-41.5, -0)mean wavelength = -41.5\n",
      "slice 59 shift = (-40.5, -0)mean wavelength = -40.5\n",
      "slice 60 shift = (-39.5, -0)mean wavelength = -39.5\n",
      "slice 61 shift = (-38.5, -0)mean wavelength = -38.5\n",
      "slice 62 shift = (-37.5, -0)mean wavelength = -37.5\n",
      "slice 63 shift = (-36.5, -0)mean wavelength = -36.5\n",
      "slice 64 shift = (-35.5, -0)mean wavelength = -35.5\n",
      "slice 65 shift = (-34.5, -0)mean wavelength = -34.5\n",
      "slice 66 shift = (-33.5, -0)mean wavelength = -33.5\n",
      "slice 67 shift = (-32.5, -0)mean wavelength = -32.5\n",
      "slice 68 shift = (-31.5, -0)mean wavelength = -31.5\n",
      "slice 69 shift = (-30.5, -0)mean wavelength = -30.5\n",
      "slice 70 shift = (-29.5, -0)mean wavelength = -29.5\n",
      "slice 71 shift = (-28.5, -0)mean wavelength = -28.5\n",
      "slice 72 shift = (-27.5, -0)mean wavelength = -27.5\n",
      "slice 73 shift = (-26.5, -0)mean wavelength = -26.5\n",
      "slice 74 shift = (-25.5, -0)mean wavelength = -25.5\n",
      "slice 75 shift = (-24.5, -0)mean wavelength = -24.5\n",
      "slice 76 shift = (-23.5, -0)mean wavelength = -23.5\n",
      "slice 77 shift = (-22.5, -0)mean wavelength = -22.5\n",
      "slice 78 shift = (-21.5, -0)mean wavelength = -21.5\n",
      "slice 79 shift = (-20.5, -0)mean wavelength = -20.5\n",
      "slice 80 shift = (-19.5, -0)mean wavelength = -19.5\n",
      "slice 81 shift = (-18.5, -0)mean wavelength = -18.5\n",
      "slice 82 shift = (-17.5, -0)mean wavelength = -17.5\n",
      "slice 83 shift = (-16.5, -0)mean wavelength = -16.5\n",
      "slice 84 shift = (-15.5, -0)mean wavelength = -15.5\n",
      "slice 85 shift = (-14.5, -0)mean wavelength = -14.5\n",
      "slice 86 shift = (-13.5, -0)mean wavelength = -13.5\n",
      "slice 87 shift = (-12.5, -0)mean wavelength = -12.5\n",
      "slice 88 shift = (-11.5, -0)mean wavelength = -11.5\n",
      "slice 89 shift = (-10.5, -0)mean wavelength = -10.5\n",
      "slice 90 shift = (-9.5, -0)mean wavelength = -9.5\n",
      "slice 91 shift = (-8.5, -0)mean wavelength = -8.5\n",
      "slice 92 shift = (-7.5, -0)mean wavelength = -7.5\n",
      "slice 93 shift = (-6.5, -0)mean wavelength = -6.5\n",
      "slice 94 shift = (-5.5, -0)mean wavelength = -5.5\n",
      "slice 95 shift = (-4.5, -0)mean wavelength = -4.5\n",
      "slice 96 shift = (-3.5, -0)mean wavelength = -3.5\n",
      "slice 97 shift = (-2.5, -0)mean wavelength = -2.5\n",
      "slice 98 shift = (-1.5, -0)mean wavelength = -1.5\n",
      "slice 99 shift = (-0.5, -0)mean wavelength = -0.5\n",
      "slice 100 shift = (0.5, 0)mean wavelength = 0.5\n",
      "slice 101 shift = (1.5, 0)mean wavelength = 1.5\n",
      "slice 102 shift = (2.5, 0)mean wavelength = 2.5\n",
      "slice 103 shift = (3.5, 0)mean wavelength = 3.5\n",
      "slice 104 shift = (4.5, 0)mean wavelength = 4.5\n",
      "slice 105 shift = (5.5, 0)mean wavelength = 5.5\n",
      "slice 106 shift = (6.5, 0)mean wavelength = 6.5\n",
      "slice 107 shift = (7.5, 0)mean wavelength = 7.5\n",
      "slice 108 shift = (8.5, 0)mean wavelength = 8.5\n",
      "slice 109 shift = (9.5, 0)mean wavelength = 9.5\n",
      "slice 110 shift = (10.5, 0)mean wavelength = 10.5\n",
      "slice 111 shift = (11.5, 0)mean wavelength = 11.5\n",
      "slice 112 shift = (12.5, 0)mean wavelength = 12.5\n",
      "slice 113 shift = (13.5, 0)mean wavelength = 13.5\n",
      "slice 114 shift = (14.5, 0)mean wavelength = 14.5\n",
      "slice 115 shift = (15.5, 0)mean wavelength = 15.5\n",
      "slice 116 shift = (16.5, 0)mean wavelength = 16.5\n",
      "slice 117 shift = (17.5, 0)mean wavelength = 17.5\n",
      "slice 118 shift = (18.5, 0)mean wavelength = 18.5\n",
      "slice 119 shift = (19.5, 0)mean wavelength = 19.5\n",
      "slice 120 shift = (20.5, 0)mean wavelength = 20.5\n",
      "slice 121 shift = (21.5, 0)mean wavelength = 21.5\n",
      "slice 122 shift = (22.5, 0)mean wavelength = 22.5\n",
      "slice 123 shift = (23.5, 0)mean wavelength = 23.5\n",
      "slice 124 shift = (24.5, 0)mean wavelength = 24.5\n",
      "slice 125 shift = (25.5, 0)mean wavelength = 25.5\n",
      "slice 126 shift = (26.5, 0)mean wavelength = 26.5\n",
      "slice 127 shift = (27.5, 0)mean wavelength = 27.5\n",
      "slice 128 shift = (28.5, 0)mean wavelength = 28.5\n",
      "slice 129 shift = (29.5, 0)mean wavelength = 29.5\n",
      "slice 130 shift = (30.5, 0)mean wavelength = 30.5\n",
      "slice 131 shift = (31.5, 0)mean wavelength = 31.5\n",
      "slice 132 shift = (32.5, 0)mean wavelength = 32.5\n",
      "slice 133 shift = (33.5, 0)mean wavelength = 33.5\n",
      "slice 134 shift = (34.5, 0)mean wavelength = 34.5\n",
      "slice 135 shift = (35.5, 0)mean wavelength = 35.5\n",
      "slice 136 shift = (36.5, 0)mean wavelength = 36.5\n",
      "slice 137 shift = (37.5, 0)mean wavelength = 37.5\n",
      "slice 138 shift = (38.5, 0)mean wavelength = 38.5\n",
      "slice 139 shift = (39.5, 0)mean wavelength = 39.5\n",
      "slice 140 shift = (40.5, 0)mean wavelength = 40.5\n",
      "slice 141 shift = (41.5, 0)mean wavelength = 41.5\n",
      "slice 142 shift = (42.5, 0)mean wavelength = 42.5\n",
      "slice 143 shift = (43.5, 0)mean wavelength = 43.5\n",
      "slice 144 shift = (44.5, 0)mean wavelength = 44.5\n",
      "slice 145 shift = (45.5, 0)mean wavelength = 45.5\n",
      "slice 146 shift = (46.5, 0)mean wavelength = 46.5\n",
      "slice 147 shift = (47.5, 0)mean wavelength = 47.5\n",
      "slice 148 shift = (48.5, 0)mean wavelength = 48.5\n",
      "slice 149 shift = (49.5, 0)mean wavelength = 49.5\n",
      "slice 150 shift = (50.5, 0)mean wavelength = 50.5\n",
      "slice 151 shift = (51.5, 0)mean wavelength = 51.5\n",
      "slice 152 shift = (52.5, 0)mean wavelength = 52.5\n",
      "slice 153 shift = (53.5, 0)mean wavelength = 53.5\n",
      "slice 154 shift = (54.5, 0)mean wavelength = 54.5\n",
      "slice 155 shift = (55.5, 0)mean wavelength = 55.5\n",
      "slice 156 shift = (56.5, 0)mean wavelength = 56.5\n",
      "slice 157 shift = (57.5, 0)mean wavelength = 57.5\n",
      "slice 158 shift = (58.5, 0)mean wavelength = 58.5\n",
      "slice 159 shift = (59.5, 0)mean wavelength = 59.5\n",
      "slice 160 shift = (60.5, 0)mean wavelength = 60.5\n",
      "slice 161 shift = (61.5, 0)mean wavelength = 61.5\n"
     ]
    },
    {
     "name": "stdout",
     "output_type": "stream",
     "text": [
      "slice 162 shift = (62.5, 0)mean wavelength = 62.5\n",
      "slice 163 shift = (63.5, 0)mean wavelength = 63.5\n",
      "slice 164 shift = (64.5, 0)mean wavelength = 64.5\n",
      "slice 165 shift = (65.5, 0)mean wavelength = 65.5\n",
      "slice 166 shift = (66.5, 0)mean wavelength = 66.5\n",
      "slice 167 shift = (67.5, 0)mean wavelength = 67.5\n",
      "slice 168 shift = (68.5, 0)mean wavelength = 68.5\n",
      "slice 169 shift = (69.5, 0)mean wavelength = 69.5\n",
      "slice 170 shift = (70.5, 0)mean wavelength = 70.5\n",
      "slice 171 shift = (71.5, 0)mean wavelength = 71.5\n",
      "slice 172 shift = (72.5, 0)mean wavelength = 72.5\n",
      "slice 173 shift = (73.5, 0)mean wavelength = 73.5\n",
      "slice 174 shift = (74.5, 0)mean wavelength = 74.5\n",
      "slice 175 shift = (75.5, 0)mean wavelength = 75.5\n",
      "slice 176 shift = (76.5, 0)mean wavelength = 76.5\n",
      "slice 177 shift = (77.5, 0)mean wavelength = 77.5\n",
      "slice 178 shift = (78.5, 0)mean wavelength = 78.5\n",
      "slice 179 shift = (79.5, 0)mean wavelength = 79.5\n",
      "slice 180 shift = (80.5, 0)mean wavelength = 80.5\n",
      "slice 181 shift = (81.5, 0)mean wavelength = 81.5\n",
      "slice 182 shift = (82.5, 0)mean wavelength = 82.5\n",
      "slice 183 shift = (83.5, 0)mean wavelength = 83.5\n",
      "slice 184 shift = (84.5, 0)mean wavelength = 84.5\n",
      "slice 185 shift = (85.5, 0)mean wavelength = 85.5\n",
      "slice 186 shift = (86.5, 0)mean wavelength = 86.5\n",
      "slice 187 shift = (87.5, 0)mean wavelength = 87.5\n",
      "slice 188 shift = (88.5, 0)mean wavelength = 88.5\n",
      "slice 189 shift = (89.5, 0)mean wavelength = 89.5\n",
      "slice 190 shift = (90.5, 0)mean wavelength = 90.5\n",
      "slice 191 shift = (91.5, 0)mean wavelength = 91.5\n",
      "slice 192 shift = (92.5, 0)mean wavelength = 92.5\n",
      "slice 193 shift = (93.5, 0)mean wavelength = 93.5\n",
      "slice 194 shift = (94.5, 0)mean wavelength = 94.5\n",
      "slice 195 shift = (95.5, 0)mean wavelength = 95.5\n",
      "slice 196 shift = (96.5, 0)mean wavelength = 96.5\n",
      "slice 197 shift = (97.5, 0)mean wavelength = 97.5\n",
      "slice 198 shift = (98.5, 0)mean wavelength = 98.5\n",
      "slice 199 shift = (99.5, 0)mean wavelength = 99.5\n"
     ]
    }
   ],
   "source": [
    "%time stat = m.stack(theory_cube, lambdas, bandpasses, dispersed_data)"
   ]
  },
  {
   "cell_type": "code",
   "execution_count": null,
   "id": "8f9be515",
   "metadata": {},
   "outputs": [],
   "source": []
  },
  {
   "cell_type": "code",
   "execution_count": 13,
   "id": "228fbdae",
   "metadata": {},
   "outputs": [
    {
     "name": "stdout",
     "output_type": "stream",
     "text": [
      "Pixel weight\n",
      "yellow: theory grid\n",
      "green: observed grid\n"
     ]
    },
    {
     "data": {
      "image/png": "[encoded data removed]",
      "text/plain": [
       "<Figure size 576x576 with 1 Axes>"
      ]
     },
     "metadata": {
      "needs_background": "light"
     },
     "output_type": "display_data"
    }
   ],
   "source": [
    "fig = plt.figure(figsize=(8,8))\n",
    "plt.imshow(np.array(dispersed_data).reshape([observed_image_Ny, observed_image_Nx]), \n",
    "           origin='lower', extent=extent_obs, cmap='bwr')\n",
    "for i in range(theory_cube_Nx+1):\n",
    "    plt.plot( ((-Rx_theory+i-0.5)*theory_cube_scale, (-Rx_theory+i-0.5)*theory_cube_scale),\n",
    "              (extent_theory[0], extent_theory[1]), c='y', lw=1)\n",
    "for i in range(theory_cube_Ny+1):\n",
    "    plt.plot( (extent_theory[2], extent_theory[3]),\n",
    "             ((-Ry_theory+i-0.5)*theory_cube_scale, (-Ry_theory+i-0.5)*theory_cube_scale),\n",
    "               c='y', lw=1)\n",
    "#    plt.axhline((-Ry_theory+i-0.5)*theory_cube_scale, c='y', lw=1)\n",
    "    \n",
    "for i in range(observed_image_Nx+1):\n",
    "    plt.axvline((-Rx_obs+i-0.5)*observed_image_scale, c='g', lw=1, ls='--')\n",
    "for i in range(observed_image_Ny+1):\n",
    "    plt.axhline((-Ry_obs+i-0.5)*observed_image_scale, c='g', lw=1, ls='--')\n",
    "print(\"Pixel weight\")\n",
    "print(\"yellow: theory grid\")\n",
    "print(\"green: observed grid\")\n"
   ]
  },
  {
   "cell_type": "markdown",
   "id": "c1619afb",
   "metadata": {},
   "source": [
    "## Check simulated dispersion with kltools pipeline"
   ]
  },
  {
   "cell_type": "code",
   "execution_count": null,
   "id": "27ddb9fe",
   "metadata": {},
   "outputs": [],
   "source": [
    "params_file = "
   ]
  },
  {
   "cell_type": "code",
   "execution_count": null,
   "id": "6b1680a8",
   "metadata": {},
   "outputs": [],
   "source": []
  }
 ],
 "metadata": {
  "kernelspec": {
   "display_name": "Python [conda env:kltools]",
   "language": "python",
   "name": "conda-env-kltools-py"
  },
  "language_info": {
   "codemirror_mode": {
    "name": "ipython",
    "version": 3
   },
   "file_extension": ".py",
   "mimetype": "text/x-python",
   "name": "python",
   "nbconvert_exporter": "python",
   "pygments_lexer": "ipython3",
   "version": "3.9.7"
  }
 },
 "nbformat": 4,
 "nbformat_minor": 5
}
