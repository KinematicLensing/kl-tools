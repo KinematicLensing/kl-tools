{
 "cells": [
  {
   "cell_type": "code",
   "execution_count": 1,
   "id": "e5a12f1d",
   "metadata": {},
   "outputs": [
    {
     "name": "stdout",
     "output_type": "stream",
     "text": [
      "['/home/jiachuan/kl-tools/notebooks', '/home/jiachuan/anaconda3/envs/kltools/lib/python39.zip', '/home/jiachuan/anaconda3/envs/kltools/lib/python3.9', '/home/jiachuan/anaconda3/envs/kltools/lib/python3.9/lib-dynload', '', '/home/jiachuan/anaconda3/envs/kltools/lib/python3.9/site-packages', '/home/jiachuan/anaconda3/envs/kltools/lib/python3.9/site-packages/GalSim-2.3.4-py3.9-linux-x86_64.egg', '/home/jiachuan/anaconda3/envs/kltools/lib/python3.9/site-packages/kltools_grism_module-0.0.2-py3.9-linux-x86_64.egg', '/home/jiachuan/anaconda3/envs/kltools/lib/python3.9/site-packages/IPython/extensions', '/home/jiachuan/.ipython', '../kl_tools/']\n",
      "0.0.2\n",
      "/home/jiachuan/anaconda3/envs/kltools/lib/python3.9/site-packages/kltools_grism_module-0.0.2-py3.9-linux-x86_64.egg/kltools_grism_module.cpython-39-x86_64-linux-gnu.so\n"
     ]
    }
   ],
   "source": [
    "import importlib\n",
    "import sys\n",
    "sys.path.append('../kl_tools/')\n",
    "print(sys.path)\n",
    "import kltools_grism_module as m\n",
    "importlib.reload(m)\n",
    "print(m.__version__)\n",
    "print(m.__file__)\n",
    "import time\n",
    "import numpy as np\n",
    "from astropy.units import Unit\n",
    "import matplotlib\n",
    "import matplotlib.pyplot as plt\n",
    "from mpl_toolkits.axes_grid1 import make_axes_locatable\n",
    "from mpl_toolkits.mplot3d.axes3d import get_test_data\n",
    "import galsim as gs\n",
    "import galsim.roman as roman\n",
    "from galsim.angle import Angle, radians\n",
    "import pickle\n",
    "import basis\n",
    "import cube\n",
    "import intensity\n",
    "import likelihood\n",
    "import mcmc\n",
    "import parameters\n",
    "from parameters import Pars\n",
    "import priors\n",
    "import utils\n",
    "import velocity\n",
    "from DataSimulator import DataSimulator\n",
    "from likelihood import LogLikelihood_Roman, LogPosterior_Roman\n",
    "import getdist\n",
    "from getdist import plots, MCSamples\n",
    "# new modules\n",
    "from spectrum import Spectrum\n",
    "#from MockObs import Mock"
   ]
  },
  {
   "cell_type": "code",
   "execution_count": null,
   "id": "58758053",
   "metadata": {},
   "outputs": [],
   "source": []
  },
  {
   "cell_type": "code",
   "execution_count": null,
   "id": "cf4f8bb3",
   "metadata": {},
   "outputs": [],
   "source": []
  },
  {
   "cell_type": "code",
   "execution_count": null,
   "id": "71d701fc",
   "metadata": {},
   "outputs": [],
   "source": []
  },
  {
   "cell_type": "code",
   "execution_count": 2,
   "id": "d61d4e61",
   "metadata": {},
   "outputs": [],
   "source": [
    "USE_REAL_BANDPASS = True"
   ]
  },
  {
   "cell_type": "markdown",
   "id": "771c7353",
   "metadata": {},
   "source": [
    "# Checking dispersion using kltools pipeline"
   ]
  },
  {
   "cell_type": "code",
   "execution_count": 3,
   "id": "027eceac",
   "metadata": {},
   "outputs": [
    {
     "name": "stdout",
     "output_type": "stream",
     "text": [
      "Reading parameter settings from YAML file (<class '_io.TextIOWrapper'>)\n",
      "{'dynamic_pars': {'g1': {'fid': 0.0, 'min': -1.0, 'max': 1.0, 'order': 1}, 'g2': {'fid': 0.0, 'min': -1.0, 'max': 1.0, 'order': 2}, 'theta_int': {'fid': -1.04, 'min': -1.5708, 'max': 1.5708, 'order': 3}, 'sini': {'fid': 0.86, 'min': 0.0, 'max': 1.0, 'order': 4}, 'v0': {'fid': 0.0, 'mean': 0.0, 'std': 100.0, 'clip_sigmas': 10.0, 'order': 5}, 'vcirc': {'fid': 300.0, 'mean': 300.0, 'std': 35.0, 'clip_sigmas': 5.0, 'order': 6}, 'rscale': {'fid': 0.5, 'min': 0.0, 'max': 2.0, 'order': 7}}, 'model_dimension': {'Nx': 200, 'Ny': 200, 'scale': 0.016, 'lambda_range': [1236.6, 1325.1], 'lambda_res': 0.05, 'lambda_unit': 'nm'}, 'intensity': {'type': 'inclined_exp', 'hlr': 0.5}, 'velocity': {'model_name': 'default', 'v_unit': 'km / s', 'r_unit': 'arcsec'}, 'sed': {'template': '../data/Simulation/GSB2.spec', 'wave_type': 'Ang', 'flux_type': 'flambda', 'z': 0.9513, 'wave_range': [500.0, 3000.0], 'obs_cont_norm': [614, 2.6e-17], 'lines': {'Halpha': 1.25e-16, 'OII': [1e-15, 1.2e-15], 'OIII': [1e-15, 1.2e-15]}, 'line_sigma_int': {'Halpha': 0.5, 'OII': [0.2, 0.2], 'OIII': [0.2, 0.2]}}, 'observations': {'number_of_observations': 3, 'obs_1': {'inst_name': 'HST/WFC3', 'type': 'grism', 'bandpass': '../data/Bandpass/HST/WFC3_IR_G141_1st.dat', 'Nx': 38, 'Ny': 38, 'pixel_scale': 0.065, 'R_spec': 215, 'psf_type': 'airy_mean', 'psf_kwargs': {'fwhm': 0.13}, 'disp_ang': 0.0, 'offset': -550.96322, 'diameter': 240, 'exp_time': 5000.0, 'gain': 1.0, 'noise': {'type': 'ccd', 'sky_level': 0.1, 'read_noise': 20, 'apply_to_data': False}}, 'obs_2': {'inst_name': 'HST/WFC3', 'type': 'grism', 'bandpass': '../data/Bandpass/HST/WFC3_IR_G141_1st.dat', 'Nx': 38, 'Ny': 38, 'pixel_scale': 0.065, 'R_spec': 215, 'psf_type': 'airy_mean', 'psf_kwargs': {'fwhm': 0.13}, 'disp_ang': 1.57, 'offset': -550.96322, 'diameter': 240, 'exp_time': 5000.0, 'gain': 1.0, 'noise': {'type': 'ccd', 'sky_level': 0.1, 'read_noise': 20, 'apply_to_data': False}}, 'obs_3': {'inst_name': 'HST/WFC3', 'type': 'photometry', 'bandpass': '../data/Bandpass/HST/WFC3_IR_F125W.dat', 'Nx': 38, 'Ny': 38, 'pixel_scale': 0.065, 'psf_type': 'airy', 'psf_kwargs': {'fwhm': 0.13}, 'diameter': 240, 'exp_time': 800.0, 'gain': 1.0, 'noise': {'type': 'ccd', 'sky_level': 0.1, 'read_noise': 20, 'apply_to_data': False}}}, 'use_numba': False}\n",
      "7 elements are used for model evaluation\n",
      "model param 1: g1\n",
      "fiducial value = 0.0\n",
      "prior = priors.UniformPrior(-1.0, 1.0, inclusive=False)\n",
      "model param 2: g2\n",
      "fiducial value = 0.0\n",
      "prior = priors.UniformPrior(-1.0, 1.0, inclusive=False)\n",
      "model param 3: theta_int\n",
      "fiducial value = -1.04\n",
      "prior = priors.UniformPrior(-1.5708, 1.5708, inclusive=False)\n",
      "model param 4: sini\n",
      "fiducial value = 0.86\n",
      "prior = priors.UniformPrior(0.0, 1.0, inclusive=False)\n",
      "model param 5: v0\n",
      "fiducial value = 0.0\n",
      "prior = priors.GaussPrior(0.0, 100.0, clip_sigmas = 10.0, zero_boundary = None)\n",
      "model param 6: vcirc\n",
      "fiducial value = 300.0\n",
      "prior = priors.GaussPrior(300.0, 35.0, clip_sigmas = 5.0, zero_boundary = None)\n",
      "model param 7: rscale\n",
      "fiducial value = 0.5\n",
      "prior = priors.UniformPrior(0.0, 2.0, inclusive=False)\n",
      "Initializing DataSimulator...\n",
      "\n",
      "[GrismGenerator] Init:\n",
      "--- Instrument name = HST/WFC3\n",
      "--- Aperture diameter = 240.00 cm\n",
      "--- Aperture area = 45238.93 cm2\n",
      "--- Detector gain = 1.00\n",
      "--- Exposure time = 5000.00 seconds\n",
      "--- Noise type = ccd\n",
      "--- PSF type = airy_mean\n",
      "--- Bandpass file = ../data/Bandpass/HST/WFC3_IR_G141_1st.dat\n",
      "--- Theory slice dimension = (200, 200)\n",
      "--- Theory slice scale = 0.02\n",
      "--- Observed slice dimension = (38, 38)\n",
      "--- Observed slice pixel scale = 0.07\n",
      "--- Dispersion angle = 0.00 deg\n",
      "--- Spectral resolution at 1um = 215.00\n",
      "--- Grism offset = -550.96322 pixels\n",
      "\n",
      "[GrismGenerator] Init:\n",
      "--- Instrument name = HST/WFC3\n",
      "--- Aperture diameter = 240.00 cm\n",
      "--- Aperture area = 45238.93 cm2\n",
      "--- Detector gain = 1.00\n",
      "--- Exposure time = 5000.00 seconds\n",
      "--- Noise type = ccd\n",
      "--- PSF type = airy_mean\n",
      "--- Bandpass file = ../data/Bandpass/HST/WFC3_IR_G141_1st.dat\n",
      "--- Theory slice dimension = (200, 200)\n",
      "--- Theory slice scale = 0.02\n",
      "--- Observed slice dimension = (38, 38)\n",
      "--- Observed slice pixel scale = 0.07\n",
      "--- Dispersion angle = 89.95 deg\n",
      "--- Spectral resolution at 1um = 215.00\n",
      "--- Grism offset = -550.96322 pixels\n",
      "\n",
      "[ImageGenerator] Init:\n",
      "--- Instrument name = HST/WFC3\n",
      "--- Aperture diameter = 240.00 cm\n",
      "--- Aperture area = 45238.93 cm2\n",
      "--- Detector gain = 1.00\n",
      "--- Exposure time = 800.00 seconds\n",
      "--- Noise type = ccd\n",
      "--- PSF type = airy\n",
      "--- Bandpass file = ../data/Bandpass/HST/WFC3_IR_F125W.dat\n",
      "--- Theory slice dimension = (200, 200)\n",
      "--- Theory slice scale = 0.02\n",
      "--- Observed slice dimension = (38, 38)\n",
      "--- Observed slice pixel scale = 0.07\n",
      "DataSimulator initialized!\n",
      "Initializing data vector from fiducial params: [0.0, 0.0, -1.04, 0.86, 0.0, 300.0, 0.5]\n",
      "----- print pars | 7.915496826171875e-05 seconds -----Print Pars object:\n",
      "\t - theory_cube_Nx = 200\n",
      "\t - theory_cube_Ny = 200\n",
      "\t - theory_cube_Nlam = 1770\n",
      "\t - theory_cube_scale = 0.016\n",
      "\t - observed_image_Nx = 38\n",
      "\t - observed_image_Ny = 38\n",
      "\t - observed_image_scale = 0.065\n",
      "\t - R_spec = 215\n",
      "\t - disper_angle = 0\n",
      "\t - offset = -550.963\n",
      "\t - diameter [cm] = 240\n",
      "\t - exptime [sec] = 5000\n",
      "\t - gain = 1\n",
      "\n",
      "----- init BP and grism img | 0.0011858940124511719 seconds -----\n",
      "----- wrap image | 0.8615667819976807 seconds -----\n",
      "----- convolv PSF | 0.865032434463501 seconds -----\n",
      "----- print pars | 4.00543212890625e-05 seconds -----\n",
      "Print Pars object:\n",
      "\t - theory_cube_Nx = 200\n",
      "\t - theory_cube_Ny = 200\n",
      "\t - theory_cube_Nlam = 1770\n",
      "\t - theory_cube_scale = 0.016\n",
      "\t - observed_image_Nx = 38\n",
      "\t - observed_image_Ny = 38\n",
      "\t - observed_image_scale = 0.065\n",
      "\t - R_spec = 215\n",
      "\t - disper_angle = 1.57\n",
      "\t - offset = -550.963\n",
      "\t - diameter [cm] = 240\n",
      "\t - exptime [sec] = 5000\n",
      "\t - gain = 1\n",
      "----- init BP and grism img | 0.0006194114685058594 seconds -----\n",
      "----- wrap image | 0.820258617401123 seconds -----\n",
      "----- convolv PSF | 0.8230419158935547 seconds -----\n"
     ]
    }
   ],
   "source": [
    "params_file = \"/home/jiachuan/kl-tools/yaml/params_HST.yaml\"\n",
    "pars = Pars(yaml_file=params_file)\n",
    "logprob = LogPosterior_Roman(pars, fid_pars=pars.dynamic_fid)\n",
    "ds = logprob.log_likelihood.dsim\n",
    "#ds.evaluateTheoryModel(pars.dynamic_fid)\n",
    "#for i in range(ds._data.shape[0]):\n",
    "#    if i!=500:\n",
    "#        ds._data[i] = np.zeros([ds._data.shape[1], ds._data.shape[2]])\n",
    "#img1, noise1 = ds.data_generators[0].stack(ds._data, ds.lambdas, force_noise_free=False)"
   ]
  },
  {
   "cell_type": "code",
   "execution_count": null,
   "id": "fa3a9722",
   "metadata": {},
   "outputs": [],
   "source": [
    "print(\"Evaluating simulated data using python GalSim routines\")\n",
    "%time data_fid, covs_fid = ds.evaluateSimulatedData(pars.dynamic_fid, force_noise_free = False, use_grism_cpp = False)\n",
    "print(\"Evaluating simulated data using C++ routines\")\n",
    "%time data_fast, covs_fast = ds.evaluateSimulatedData(pars.dynamic_fid, force_noise_free = False)"
   ]
  },
  {
   "cell_type": "code",
   "execution_count": null,
   "id": "5d3ed8d7",
   "metadata": {},
   "outputs": [],
   "source": [
    "fig, axes = plt.subplots(2,3, figsize=(12,8))\n",
    "\n",
    "axes[0,0].imshow(data_fid[0], origin='lower', cmap='binary')\n",
    "axes[0,0].set_title(\"GalSim Grism 1\")\n",
    "\n",
    "axes[0,1].imshow(data_fid[1], origin='lower', cmap='binary')\n",
    "axes[0,1].set_title(\"GalSim Grism 2\")\n",
    "\n",
    "axes[0,2].imshow(data_fid[2], origin='lower', cmap='binary')\n",
    "axes[0,2].set_title(\"GalSim Direct Image\")\n",
    "\n",
    "axes[1,0].imshow(data_fast[0], origin='lower', cmap='binary')\n",
    "axes[1,0].set_title(\"C++ Grism 1\")\n",
    "\n",
    "axes[1,1].imshow(data_fast[1], origin='lower', cmap='binary')\n",
    "axes[1,1].set_title(\"C++ Grism 2\")\n",
    "\n",
    "axes[1,2].imshow(data_fast[2], origin='lower', cmap='binary')\n",
    "axes[1,2].set_title(\"Galsim Direct Image\")\n",
    "\n",
    "\n",
    "\n",
    "plt.show()"
   ]
  },
  {
   "cell_type": "code",
   "execution_count": 11,
   "id": "ba81b758",
   "metadata": {},
   "outputs": [
    {
     "data": {
      "image/png": "[encoded data removed]",
      "text/plain": [
       "<Figure size 576x288 with 2 Axes>"
      ]
     },
     "metadata": {
      "needs_background": "light"
     },
     "output_type": "display_data"
    }
   ],
   "source": [
    "fig, axes = plt.subplots(1,2, figsize=(8,4))\n",
    "\n",
    "axes[0].imshow(ds.imap_img, origin='lower', cmap='binary')\n",
    "\n",
    "axes[1].imshow(ds.vmap_img, origin='lower', cmap='bwr')\n",
    "\n",
    "plt.show()"
   ]
  },
  {
   "cell_type": "code",
   "execution_count": 12,
   "id": "757d8871",
   "metadata": {},
   "outputs": [
    {
     "name": "stdout",
     "output_type": "stream",
     "text": [
      "CPU times: user 817 ms, sys: 50 µs, total: 817 ms\n",
      "Wall time: 816 ms\n"
     ]
    }
   ],
   "source": [
    "logprob.log_likelihood.dsim.evaluateTheoryModel(pars.dynamic_fid)\n",
    "%time img1, noise1 = ds.data_generators[0].cpp_stack(ds._data, ds.lambdas, force_noise_free=True)"
   ]
  },
  {
   "cell_type": "code",
   "execution_count": 19,
   "id": "9929c8fd",
   "metadata": {},
   "outputs": [
    {
     "data": {
      "text/plain": [
       "(1770, 200, 200)"
      ]
     },
     "execution_count": 19,
     "metadata": {},
     "output_type": "execute_result"
    }
   ],
   "source": [
    "ds._data.shape"
   ]
  },
  {
   "cell_type": "code",
   "execution_count": 11,
   "id": "e270a391",
   "metadata": {},
   "outputs": [
    {
     "name": "stdout",
     "output_type": "stream",
     "text": [
      "Data Dimension:\n",
      "theory cube (1770, 200, 200)\n",
      "wavelength grid (1770, 2)\n",
      "bandpasses (1770, 2)\n",
      "CPU times: user 2.67 s, sys: 232 ms, total: 2.9 s\n",
      "Wall time: 2.88 s\n",
      "CPU times: user 151 µs, sys: 19 µs, total: 170 µs\n",
      "Wall time: 163 µs\n",
      "CPU times: user 135 µs, sys: 18 µs, total: 153 µs\n",
      "Wall time: 146 µs\n",
      "CPU times: user 74 µs, sys: 9 µs, total: 83 µs\n",
      "Wall time: 76.5 µs\n",
      "----- 2.882802724838257 seconds -----\n",
      "Print Pars object:\n",
      "\t - theory_cube_Nx = 200\n",
      "\t - theory_cube_Ny = 200\n",
      "\t - theory_cube_Nlam = 1770\n",
      "\t - theory_cube_scale = 0.016\n",
      "\t - observed_image_Nx = 38\n",
      "\t - observed_image_Ny = 38\n",
      "\t - observed_image_scale = 0.065\n",
      "\t - R_spec = 215\n",
      "\t - disper_angle = 0\n",
      "\t - offset = -550.963\n",
      "\t - diameter [cm] = 240\n",
      "\t - exptime [sec] = 5000\n",
      "\t - gain = 1\n"
     ]
    }
   ],
   "source": [
    "### wrap data for cpp dispersion\n",
    "_theory_data = ds._data\n",
    "_lambdas = ds.lambdas\n",
    "if USE_REAL_BANDPASS:\n",
    "    _bandpasses = ds.data_generators[0].bandpass(_lambdas)\n",
    "else:\n",
    "    _bandpasses = np.ones(_lambdas.shape)\n",
    "Nlam = _theory_data.shape[0]\n",
    "print(f\"\"\"Data Dimension:\n",
    "theory cube {_theory_data.shape}\n",
    "wavelength grid {_lambdas.shape}\n",
    "bandpasses {_bandpasses.shape}\"\"\")\n",
    "start_time = time.time()\n",
    "\n",
    "%time theory_data = m.DBVec(_theory_data.flatten())\n",
    "%time lambdas = m.DBVec(_lambdas.flatten())\n",
    "%time bandpasses = m.DBVec(_bandpasses.flatten())\n",
    "%time dispersed_data = m.DBVec(np.zeros([pars.meta['observations']['obs_1']['Ny'], \\\n",
    "                                   pars.meta['observations']['obs_1']['Nx']]).flatten())\n",
    "print(\"----- %s seconds -----\" % (time.time() - start_time))\n",
    "stat = m.set_pars(\n",
    "    pars.meta['model_dimension']['Nx'],\n",
    "    pars.meta['model_dimension']['Ny'],\n",
    "    Nlam,\n",
    "    pars.meta['model_dimension']['scale'],\n",
    "    pars.meta['observations']['obs_1']['Nx'],\n",
    "    pars.meta['observations']['obs_1']['Ny'],\n",
    "    pars.meta['observations']['obs_1']['pixel_scale'], \n",
    "    pars.meta['observations']['obs_1']['R_spec'],\n",
    "    pars.meta['observations']['obs_1']['disp_ang'],\n",
    "    pars.meta['observations']['obs_1']['offset'], \n",
    "    pars.meta['observations']['obs_1']['diameter'],\n",
    "    pars.meta['observations']['obs_1']['exp_time'],\n",
    "    pars.meta['observations']['obs_1']['gain']\n",
    ")\n",
    "stat = m.print_Pars()"
   ]
  },
  {
   "cell_type": "code",
   "execution_count": 12,
   "id": "b5931d1b",
   "metadata": {},
   "outputs": [
    {
     "data": {
      "text/plain": [
       "(1770, 200, 200)"
      ]
     },
     "execution_count": 12,
     "metadata": {},
     "output_type": "execute_result"
    }
   ],
   "source": [
    "_theory_data.shape"
   ]
  },
  {
   "cell_type": "code",
   "execution_count": 10,
   "id": "1a0ef124",
   "metadata": {},
   "outputs": [
    {
     "name": "stdout",
     "output_type": "stream",
     "text": [
      "CPU times: user 288 ms, sys: 238 µs, total: 288 ms\n",
      "Wall time: 284 ms\n"
     ]
    }
   ],
   "source": [
    "%time stat = m.stack(theory_data, lambdas, bandpasses, dispersed_data)"
   ]
  },
  {
   "cell_type": "code",
   "execution_count": 15,
   "id": "538f0858",
   "metadata": {},
   "outputs": [],
   "source": [
    "# photons / (s cm2) (bandpass applied)\n",
    "test = gs.Image(\n",
    "    np.array(dispersed_data).reshape([pars.meta['observations']['obs_1']['Ny'], \n",
    "                                   pars.meta['observations']['obs_1']['Nx']]),\n",
    "    dtype=np.float64, scale=pars.meta['observations']['obs_1']['pixel_scale']\n",
    ")"
   ]
  },
  {
   "cell_type": "code",
   "execution_count": 9,
   "id": "72f6c3b8",
   "metadata": {},
   "outputs": [
    {
     "data": {
      "text/plain": [
       "{'inst_name': 'HST/WFC3',\n",
       " 'type': 'grism',\n",
       " 'bandpass': '../data/Bandpass/HST/WFC3_IR_G141_1st.dat',\n",
       " 'Nx': 38,\n",
       " 'Ny': 38,\n",
       " 'pixel_scale': 0.065,\n",
       " 'R_spec': 215,\n",
       " 'psf_type': 'none',\n",
       " 'psf_kwargs': {'fwhm': 0.13},\n",
       " 'disp_ang': 0.0,\n",
       " 'offset': -550.96322,\n",
       " 'diameter': 240,\n",
       " 'exp_time': 5000.0,\n",
       " 'gain': 1.0,\n",
       " 'noise': {'type': 'ccd',\n",
       "  'sky_level': 0.1,\n",
       "  'read_noise': 20,\n",
       "  'apply_to_data': False}}"
      ]
     },
     "execution_count": 9,
     "metadata": {},
     "output_type": "execute_result"
    }
   ],
   "source": [
    "pars.meta['observations']['obs_1']"
   ]
  },
  {
   "cell_type": "code",
   "execution_count": 18,
   "id": "29cc72f0",
   "metadata": {},
   "outputs": [
    {
     "data": {
      "image/png": "[encoded data removed]",
      "text/plain": [
       "<Figure size 864x576 with 12 Axes>"
      ]
     },
     "metadata": {
      "needs_background": "light"
     },
     "output_type": "display_data"
    }
   ],
   "source": [
    "fig, axes = plt.subplots(2,3,figsize=(12,8))\n",
    "\n",
    "cb1 = axes[0,0].imshow(#test.array,\n",
    "                     #test + covs_fid[0],\n",
    "                     data_fast[0],\n",
    "                     origin='lower', cmap='binary')\n",
    "ad1 = make_axes_locatable(axes[0,0], )\n",
    "cax1 = ad1.append_axes(\"bottom\", size=\"5%\", pad=\"2%\")\n",
    "plt.colorbar(cb1, cax=cax1, orientation='horizontal')\n",
    "axes[0,0].set_title(\"C++ Grism 1\")\n",
    "axes[0,0].set(xticks=[], )\n",
    "vmin, vmax = cb1.get_clim()\n",
    "\n",
    "cb2 = axes[0,1].imshow(\n",
    "    #data_fid[0] + covs_fid[0], \n",
    "    data_fid[0],\n",
    "    origin='lower', cmap='binary', vmin=vmin, vmax=vmax)\n",
    "ad2 = make_axes_locatable(axes[0,1], )\n",
    "cax2 = ad2.append_axes(\"bottom\", size=\"5%\", pad=\"2%\")\n",
    "plt.colorbar(cb2, cax=cax2, orientation='horizontal')\n",
    "axes[0,1].set_title(\"GalSim 1\")\n",
    "axes[0,1].set(xticks=[], )\n",
    "\n",
    "#diff_map = test.array - data_fid[0]\n",
    "diff_map = data_fast[0] - data_fid[0]\n",
    "cb3 = axes[0,2].imshow(diff_map , origin='lower', cmap='bwr', \n",
    "                     #vmin=-10, vmax=10,\n",
    "                    )\n",
    "ad3 = make_axes_locatable(axes[0,2], )\n",
    "cax3 = ad3.append_axes(\"bottom\", size=\"5%\", pad=\"2%\")\n",
    "plt.colorbar(cb3, cax=cax3, orientation='horizontal')\n",
    "axes[0,2].set_title('C++ - GalSim')\n",
    "axes[0,2].set(xticks=[], )\n",
    "\n",
    "cb1 = axes[1,0].imshow(#test.array,\n",
    "                     #test + covs_fid[0],\n",
    "                     data_fast[1],\n",
    "                     origin='lower', cmap='binary')\n",
    "ad1 = make_axes_locatable(axes[1,0], )\n",
    "cax1 = ad1.append_axes(\"bottom\", size=\"5%\", pad=\"2%\")\n",
    "plt.colorbar(cb1, cax=cax1, orientation='horizontal')\n",
    "axes[1,0].set_title(\"C++ Grism 2\")\n",
    "axes[1,0].set(xticks=[], )\n",
    "vmin, vmax = cb1.get_clim()\n",
    "\n",
    "cb2 = axes[1,1].imshow(\n",
    "    #data_fid[0] + covs_fid[0], \n",
    "    data_fid[1],\n",
    "    origin='lower', cmap='binary', vmin=vmin, vmax=vmax)\n",
    "ad2 = make_axes_locatable(axes[1,1], )\n",
    "cax2 = ad2.append_axes(\"bottom\", size=\"5%\", pad=\"2%\")\n",
    "plt.colorbar(cb2, cax=cax2, orientation='horizontal')\n",
    "axes[1,1].set_title(\"GalSim 2\")\n",
    "axes[1,1].set(xticks=[], )\n",
    "\n",
    "#diff_map = test.array - data_fid[0]\n",
    "diff_map = data_fast[1] - data_fid[1]\n",
    "cb3 = axes[1,2].imshow(diff_map , origin='lower', cmap='bwr', \n",
    "                     #vmin=-10, vmax=10,\n",
    "                    )\n",
    "ad3 = make_axes_locatable(axes[1,2], )\n",
    "cax3 = ad3.append_axes(\"bottom\", size=\"5%\", pad=\"2%\")\n",
    "plt.colorbar(cb3, cax=cax3, orientation='horizontal')\n",
    "axes[1,2].set_title('C++ - GalSim')\n",
    "axes[1,2].set(xticks=[], )\n",
    "\n",
    "plt.show()"
   ]
  },
  {
   "cell_type": "code",
   "execution_count": 18,
   "id": "25640286",
   "metadata": {},
   "outputs": [
    {
     "data": {
      "text/plain": [
       "0.00028507924543107237"
      ]
     },
     "execution_count": 18,
     "metadata": {},
     "output_type": "execute_result"
    }
   ],
   "source": [
    "np.sum((diff_map**2/covs_fid[0]**2)) / 38**2"
   ]
  },
  {
   "cell_type": "code",
   "execution_count": 12,
   "id": "dcccc6af",
   "metadata": {},
   "outputs": [
    {
     "name": "stdout",
     "output_type": "stream",
     "text": [
      "CPU times: user 78 µs, sys: 4 µs, total: 82 µs\n",
      "Wall time: 89.6 µs\n",
      "CPU times: user 0 ns, sys: 1.73 ms, total: 1.73 ms\n",
      "Wall time: 1.53 ms\n"
     ]
    }
   ],
   "source": [
    "%time a = gs.Image(img1)\n",
    "%time gal = gs.InterpolatedImage(a, scale=pars.meta['observations']['obs_1']['pixel_scale'])"
   ]
  },
  {
   "cell_type": "code",
   "execution_count": 17,
   "id": "ae775564",
   "metadata": {},
   "outputs": [
    {
     "data": {
      "text/plain": [
       "<matplotlib.colorbar.Colorbar at 0x7f2839c20790>"
      ]
     },
     "execution_count": 17,
     "metadata": {},
     "output_type": "execute_result"
    },
    {
     "data": {
      "image/png": "[encoded data removed]",
      "text/plain": [
       "<Figure size 576x288 with 4 Axes>"
      ]
     },
     "metadata": {
      "needs_background": "light"
     },
     "output_type": "display_data"
    }
   ],
   "source": [
    "fig, axes = plt.subplots(1,2,figsize=(8,4))\n",
    "\n",
    "cb1 = axes[0].imshow(a.array)\n",
    "ad = make_axes_locatable(axes[0])\n",
    "cax = ad.append_axes(\"bottom\", size=\"5%\", pad=\"2%\")\n",
    "plt.colorbar(cb1, cax=cax, orientation='horizontal')\n",
    "\n",
    "b = a * 0.5\n",
    "cb1 = axes[1].imshow(b.array)\n",
    "ad = make_axes_locatable(axes[1])\n",
    "cax = ad.append_axes(\"bottom\", size=\"5%\", pad=\"2%\")\n",
    "plt.colorbar(cb1, cax=cax, orientation='horizontal')"
   ]
  },
  {
   "cell_type": "code",
   "execution_count": 20,
   "id": "7040b808",
   "metadata": {},
   "outputs": [
    {
     "name": "stdout",
     "output_type": "stream",
     "text": [
      "3.5\n"
     ]
    }
   ],
   "source": [
    "a = np.array([[1,2,3], [4,5,6]])\n",
    "print(np.mean(a))"
   ]
  },
  {
   "cell_type": "markdown",
   "id": "76e157e7",
   "metadata": {},
   "source": [
    "## TODO\n",
    "\n",
    "- [ ] tune `GalSim` precision parameters `GSParams` objest (see [here](https://galsim-developers.github.io/GalSim/_build/html/gsparams.html?highlight=gsparam)) and compare between C++ implementation and python `GalSim` routines. We need really high precision to derive precise shear measurement.\n",
    "- [ ] It would be good to merge with Spencer's repo oneday. \n",
    "- [ ] Move cpp stack into a class object, rather than a stand-alone function"
   ]
  },
  {
   "cell_type": "code",
   "execution_count": null,
   "id": "af624f7d",
   "metadata": {},
   "outputs": [],
   "source": []
  }
 ],
 "metadata": {
  "kernelspec": {
   "display_name": "Python [conda env:kltools]",
   "language": "python",
   "name": "conda-env-kltools-py"
  },
  "language_info": {
   "codemirror_mode": {
    "name": "ipython",
    "version": 3
   },
   "file_extension": ".py",
   "mimetype": "text/x-python",
   "name": "python",
   "nbconvert_exporter": "python",
   "pygments_lexer": "ipython3",
   "version": "3.9.7"
  }
 },
 "nbformat": 4,
 "nbformat_minor": 5
}
