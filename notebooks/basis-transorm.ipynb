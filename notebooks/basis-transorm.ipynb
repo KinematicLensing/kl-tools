{
 "cells": [
  {
   "cell_type": "code",
   "execution_count": 1,
   "id": "6383f4d5-68b7-477c-92e9-0bec345c96a5",
   "metadata": {},
   "outputs": [],
   "source": [
    "import numpy as np\n",
    "import os\n",
    "from astropy.units import Unit\n",
    "import matplotlib.pyplot as plt\n",
    "\n",
    "import sys\n",
    "sys.path.insert(0,'../kl_tools/')\n",
    "\n",
    "import likelihood\n",
    "import intensity\n",
    "import basis\n",
    "import priors\n",
    "import utils\n",
    "import transformation as transform\n",
    "\n",
    "%matplotlib inline"
   ]
  },
  {
   "cell_type": "code",
   "execution_count": 2,
   "id": "678142d0-0f57-40f4-b750-fa8111a4f1fa",
   "metadata": {},
   "outputs": [
    {
     "name": "stdout",
     "output_type": "stream",
     "text": [
      "Setting up test datacube and true Halpha image\n"
     ]
    }
   ],
   "source": [
    "nx, ny = 30, 30\n",
    "nmax = 20\n",
    "\n",
    "true_pars = {\n",
    "    'g1': 0.25,\n",
    "    'g2': -0.1,\n",
    "    'theta_int': np.pi / 3,\n",
    "    'sini': 0.8,\n",
    "    'v0': 10.,\n",
    "    'vcirc': 200,\n",
    "    'rscale': 5,\n",
    "}\n",
    "\n",
    "# additional args needed for prior / likelihood evaluation\n",
    "halpha = 656.28 # nm\n",
    "R = 5000.\n",
    "z = 0.3\n",
    "pars = {\n",
    "    'Nx': 30, # pixels\n",
    "    'Ny': 30, # pixels\n",
    "    'true_flux': 1e5, # counts\n",
    "    'true_hlr': 5, # pixels\n",
    "    'v_unit': Unit('km / s'),\n",
    "    'r_unit': Unit('kpc'),\n",
    "    'z': z,\n",
    "    'spec_resolution': R,\n",
    "    # 'line_std': 0.17,\n",
    "    'line_std': halpha * (1.+z) / R, # emission line SED std; nm\n",
    "    'line_value': 656.28, # emission line SED std; nm\n",
    "    'line_unit': Unit('nm'),\n",
    "    'sed_start': 650,\n",
    "    'sed_end': 660,\n",
    "    'sed_resolution': 0.025,\n",
    "    'sed_unit': Unit('nm'),\n",
    "    'cov_sigma': 4, # pixel counts; dummy value\n",
    "    'bandpass_throughput': '.2',\n",
    "    'bandpass_unit': 'nm',\n",
    "    'bandpass_zp': 30,\n",
    "    'priors': {\n",
    "        'g1': priors.GaussPrior(0., 0.1),#, clip_sigmas=2),\n",
    "        'g2': priors.GaussPrior(0., 0.1),#, clip_sigmas=2),\n",
    "        'theta_int': priors.UniformPrior(0., np.pi),\n",
    "        # 'theta_int': priors.UniformPrior(np.pi/3, np.pi),\n",
    "        'sini': priors.UniformPrior(0., 1.),\n",
    "        # 'sini': priors.GaussPrior()\n",
    "        'v0': priors.UniformPrior(0, 20),\n",
    "        'vcirc': priors.GaussPrior(200, 10, clip_sigmas=2),\n",
    "        # 'vcirc': priors.UniformPrior(190, 210),\n",
    "        'rscale': priors.UniformPrior(0, 10),\n",
    "    },\n",
    "    'intensity': {\n",
    "        # For this test, use truth info\n",
    "        'type': 'inclined_exp',\n",
    "        'flux': 1e5, # counts\n",
    "        'hlr': 5, # pixels\n",
    "        # 'type': 'basis',\n",
    "        # 'basis_type': 'shapelets',\n",
    "        # 'basis_kwargs': {\n",
    "        #     'Nmax': 10,\n",
    "        #     }\n",
    "    },\n",
    "    # 'psf': gs.Gaussian(fwhm=3), # fwhm in pixels\n",
    "    'use_numba': False,\n",
    "}\n",
    "\n",
    "# li, le, dl = 655.5, 657, 0.1\n",
    "li, le, dl = 655.8, 656.8, 0.1\n",
    "# li, le, dl = 655.9, 656.8, .1\n",
    "lambdas = [(l, l+dl) for l in np.arange(li, le, dl)]\n",
    "\n",
    "Nx, Ny = 30, 30\n",
    "Nspec = len(lambdas)\n",
    "shape = (Nx, Ny, Nspec)\n",
    "print('Setting up test datacube and true Halpha image')\n",
    "datacube, sed, vmap, true_im = likelihood.setup_likelihood_test(\n",
    "    true_pars, pars, shape, lambdas\n",
    "    )\n",
    "\n",
    "# imap = intensity.build_intensity_map('"
   ]
  },
  {
   "cell_type": "code",
   "execution_count": 3,
   "id": "c721ee0a-20f2-4fea-8ddb-d87c03c6fc36",
   "metadata": {},
   "outputs": [
    {
     "data": {
      "image/png": "[encoded data removed]",
      "text/plain": [
       "<Figure size 504x504 with 2 Axes>"
      ]
     },
     "metadata": {
      "needs_background": "light"
     },
     "output_type": "display_data"
    }
   ],
   "source": [
    "plt.imshow(true_im, origin='lower')\n",
    "plt.colorbar()\n",
    "plt.gcf().set_size_inches(7,7)"
   ]
  },
  {
   "cell_type": "code",
   "execution_count": 4,
   "id": "f958741e-e45f-435a-b0be-b6de3f81b886",
   "metadata": {},
   "outputs": [
    {
     "ename": "TypeError",
     "evalue": "__init__() missing 1 required positional argument: 'plane'",
     "output_type": "error",
     "traceback": [
      "\u001b[0;31m---------------------------------------------------------------------------\u001b[0m",
      "\u001b[0;31mTypeError\u001b[0m                                 Traceback (most recent call last)",
      "\u001b[0;32m/var/folders/92/vynp_rhj5v555c18dmsmnrpc0000gq/T/ipykernel_5784/3109618939.py\u001b[0m in \u001b[0;36m<module>\u001b[0;34m\u001b[0m\n\u001b[0;32m----> 1\u001b[0;31m \u001b[0mimap\u001b[0m \u001b[0;34m=\u001b[0m \u001b[0mintensity\u001b[0m\u001b[0;34m.\u001b[0m\u001b[0mBasisIntensityMap\u001b[0m\u001b[0;34m(\u001b[0m\u001b[0mdatacube\u001b[0m\u001b[0;34m,\u001b[0m \u001b[0mbasis_kwargs\u001b[0m\u001b[0;34m=\u001b[0m\u001b[0;34m{\u001b[0m\u001b[0;34m'Nmax'\u001b[0m\u001b[0;34m:\u001b[0m\u001b[0mnmax\u001b[0m\u001b[0;34m}\u001b[0m\u001b[0;34m)\u001b[0m\u001b[0;34m\u001b[0m\u001b[0;34m\u001b[0m\u001b[0m\n\u001b[0m",
      "\u001b[0;32m~/repos/kl-tools/notebooks/../kl_tools/intensity.py\u001b[0m in \u001b[0;36m__init__\u001b[0;34m(self, datacube, basis_type, basis_kwargs)\u001b[0m\n\u001b[1;32m    273\u001b[0m         \u001b[0mself\u001b[0m\u001b[0;34m.\u001b[0m\u001b[0mbasis_kwargs\u001b[0m \u001b[0;34m=\u001b[0m \u001b[0mbasis_kwargs\u001b[0m\u001b[0;34m\u001b[0m\u001b[0;34m\u001b[0m\u001b[0m\n\u001b[1;32m    274\u001b[0m \u001b[0;34m\u001b[0m\u001b[0m\n\u001b[0;32m--> 275\u001b[0;31m         \u001b[0mself\u001b[0m\u001b[0;34m.\u001b[0m\u001b[0m_setup_fitter\u001b[0m\u001b[0;34m(\u001b[0m\u001b[0mbasis_type\u001b[0m\u001b[0;34m,\u001b[0m \u001b[0mnx\u001b[0m\u001b[0;34m,\u001b[0m \u001b[0mny\u001b[0m\u001b[0;34m,\u001b[0m \u001b[0mbasis_kwargs\u001b[0m\u001b[0;34m=\u001b[0m\u001b[0mbasis_kwargs\u001b[0m\u001b[0;34m)\u001b[0m\u001b[0;34m\u001b[0m\u001b[0;34m\u001b[0m\u001b[0m\n\u001b[0m\u001b[1;32m    276\u001b[0m \u001b[0;34m\u001b[0m\u001b[0m\n\u001b[1;32m    277\u001b[0m         \u001b[0;31m# if fit_now is True:\u001b[0m\u001b[0;34m\u001b[0m\u001b[0;34m\u001b[0m\u001b[0m\n",
      "\u001b[0;32m~/repos/kl-tools/notebooks/../kl_tools/intensity.py\u001b[0m in \u001b[0;36m_setup_fitter\u001b[0;34m(self, basis_type, nx, ny, basis_kwargs)\u001b[0m\n\u001b[1;32m    290\u001b[0m \u001b[0;34m\u001b[0m\u001b[0m\n\u001b[1;32m    291\u001b[0m     \u001b[0;32mdef\u001b[0m \u001b[0m_setup_fitter\u001b[0m\u001b[0;34m(\u001b[0m\u001b[0mself\u001b[0m\u001b[0;34m,\u001b[0m \u001b[0mbasis_type\u001b[0m\u001b[0;34m,\u001b[0m \u001b[0mnx\u001b[0m\u001b[0;34m,\u001b[0m \u001b[0mny\u001b[0m\u001b[0;34m,\u001b[0m \u001b[0mbasis_kwargs\u001b[0m\u001b[0;34m=\u001b[0m\u001b[0;32mNone\u001b[0m\u001b[0;34m)\u001b[0m\u001b[0;34m:\u001b[0m\u001b[0;34m\u001b[0m\u001b[0;34m\u001b[0m\u001b[0m\n\u001b[0;32m--> 292\u001b[0;31m         self.fitter = IntensityMapFitter(\n\u001b[0m\u001b[1;32m    293\u001b[0m             \u001b[0mbasis_type\u001b[0m\u001b[0;34m,\u001b[0m \u001b[0mnx\u001b[0m\u001b[0;34m,\u001b[0m \u001b[0mny\u001b[0m\u001b[0;34m,\u001b[0m \u001b[0mbasis_kwargs\u001b[0m\u001b[0;34m=\u001b[0m\u001b[0mbasis_kwargs\u001b[0m\u001b[0;34m\u001b[0m\u001b[0;34m\u001b[0m\u001b[0m\n\u001b[1;32m    294\u001b[0m             )\n",
      "\u001b[0;32m~/repos/kl-tools/notebooks/../kl_tools/intensity.py\u001b[0m in \u001b[0;36m__init__\u001b[0;34m(self, basis_type, nx, ny, basis_kwargs)\u001b[0m\n\u001b[1;32m    375\u001b[0m         \u001b[0mself\u001b[0m\u001b[0;34m.\u001b[0m\u001b[0mgrid\u001b[0m \u001b[0;34m=\u001b[0m \u001b[0mutils\u001b[0m\u001b[0;34m.\u001b[0m\u001b[0mbuild_map_grid\u001b[0m\u001b[0;34m(\u001b[0m\u001b[0mnx\u001b[0m\u001b[0;34m,\u001b[0m \u001b[0mny\u001b[0m\u001b[0;34m)\u001b[0m\u001b[0;34m\u001b[0m\u001b[0;34m\u001b[0m\u001b[0m\n\u001b[1;32m    376\u001b[0m \u001b[0;34m\u001b[0m\u001b[0m\n\u001b[0;32m--> 377\u001b[0;31m         \u001b[0mself\u001b[0m\u001b[0;34m.\u001b[0m\u001b[0m_initialize_basis\u001b[0m\u001b[0;34m(\u001b[0m\u001b[0mbasis_kwargs\u001b[0m\u001b[0;34m)\u001b[0m\u001b[0;34m\u001b[0m\u001b[0;34m\u001b[0m\u001b[0m\n\u001b[0m\u001b[1;32m    378\u001b[0m \u001b[0;34m\u001b[0m\u001b[0m\n\u001b[1;32m    379\u001b[0m         \u001b[0;31m# will be set once transformation params and cov\u001b[0m\u001b[0;34m\u001b[0m\u001b[0;34m\u001b[0m\u001b[0m\n",
      "\u001b[0;32m~/repos/kl-tools/notebooks/../kl_tools/intensity.py\u001b[0m in \u001b[0;36m_initialize_basis\u001b[0;34m(self, basis_kwargs)\u001b[0m\n\u001b[1;32m    397\u001b[0m                 }\n\u001b[1;32m    398\u001b[0m \u001b[0;34m\u001b[0m\u001b[0m\n\u001b[0;32m--> 399\u001b[0;31m         \u001b[0mself\u001b[0m\u001b[0;34m.\u001b[0m\u001b[0mbasis\u001b[0m \u001b[0;34m=\u001b[0m \u001b[0mbasis\u001b[0m\u001b[0;34m.\u001b[0m\u001b[0mbuild_basis\u001b[0m\u001b[0;34m(\u001b[0m\u001b[0mself\u001b[0m\u001b[0;34m.\u001b[0m\u001b[0mbasis_type\u001b[0m\u001b[0;34m,\u001b[0m \u001b[0mbasis_kwargs\u001b[0m\u001b[0;34m)\u001b[0m\u001b[0;34m\u001b[0m\u001b[0;34m\u001b[0m\u001b[0m\n\u001b[0m\u001b[1;32m    400\u001b[0m         \u001b[0mself\u001b[0m\u001b[0;34m.\u001b[0m\u001b[0mNbasis\u001b[0m \u001b[0;34m=\u001b[0m \u001b[0mself\u001b[0m\u001b[0;34m.\u001b[0m\u001b[0mbasis\u001b[0m\u001b[0;34m.\u001b[0m\u001b[0mN\u001b[0m\u001b[0;34m\u001b[0m\u001b[0;34m\u001b[0m\u001b[0m\n\u001b[1;32m    401\u001b[0m         \u001b[0mself\u001b[0m\u001b[0;34m.\u001b[0m\u001b[0mmle_coefficients\u001b[0m \u001b[0;34m=\u001b[0m \u001b[0mnp\u001b[0m\u001b[0;34m.\u001b[0m\u001b[0mzeros\u001b[0m\u001b[0;34m(\u001b[0m\u001b[0mself\u001b[0m\u001b[0;34m.\u001b[0m\u001b[0mNbasis\u001b[0m\u001b[0;34m)\u001b[0m\u001b[0;34m\u001b[0m\u001b[0;34m\u001b[0m\u001b[0m\n",
      "\u001b[0;32m~/repos/kl-tools/notebooks/../kl_tools/basis.py\u001b[0m in \u001b[0;36mbuild_basis\u001b[0;34m(name, kwargs)\u001b[0m\n\u001b[1;32m    376\u001b[0m     \u001b[0;32mif\u001b[0m \u001b[0mname\u001b[0m \u001b[0;32min\u001b[0m \u001b[0mBASIS_TYPES\u001b[0m\u001b[0;34m.\u001b[0m\u001b[0mkeys\u001b[0m\u001b[0;34m(\u001b[0m\u001b[0;34m)\u001b[0m\u001b[0;34m:\u001b[0m\u001b[0;34m\u001b[0m\u001b[0;34m\u001b[0m\u001b[0m\n\u001b[1;32m    377\u001b[0m         \u001b[0;31m# User-defined input construction\u001b[0m\u001b[0;34m\u001b[0m\u001b[0;34m\u001b[0m\u001b[0m\n\u001b[0;32m--> 378\u001b[0;31m         \u001b[0mbasis\u001b[0m \u001b[0;34m=\u001b[0m \u001b[0mBASIS_TYPES\u001b[0m\u001b[0;34m[\u001b[0m\u001b[0mname\u001b[0m\u001b[0;34m]\u001b[0m\u001b[0;34m(\u001b[0m\u001b[0;34m**\u001b[0m\u001b[0mkwargs\u001b[0m\u001b[0;34m)\u001b[0m\u001b[0;34m\u001b[0m\u001b[0;34m\u001b[0m\u001b[0m\n\u001b[0m\u001b[1;32m    379\u001b[0m     \u001b[0;32melse\u001b[0m\u001b[0;34m:\u001b[0m\u001b[0;34m\u001b[0m\u001b[0;34m\u001b[0m\u001b[0m\n\u001b[1;32m    380\u001b[0m         \u001b[0;32mraise\u001b[0m \u001b[0mValueError\u001b[0m\u001b[0;34m(\u001b[0m\u001b[0;34mf'{name} is not a registered basis!'\u001b[0m\u001b[0;34m)\u001b[0m\u001b[0;34m\u001b[0m\u001b[0;34m\u001b[0m\u001b[0m\n",
      "\u001b[0;31mTypeError\u001b[0m: __init__() missing 1 required positional argument: 'plane'"
     ]
    }
   ],
   "source": [
    "imap = intensity.BasisIntensityMap(datacube, basis_kwargs={'Nmax':nmax})"
   ]
  },
  {
   "cell_type": "code",
   "execution_count": null,
   "id": "dbf587d2-a385-4551-92b7-8ae40592ca5f",
   "metadata": {},
   "outputs": [],
   "source": [
    "basis_im = imap.render()\n",
    "data_im = np.sum(datacube._data, axis=2)\n",
    "\n",
    "fig, axes = plt.subplots(nrows=1, ncols=3, figsize=(12, 6))\n",
    "\n",
    "titles = ['data', 'model', 'residual']\n",
    "images = [data_im, basis_im, data_im-basis_im]\n",
    "\n",
    "for i in range(3):\n",
    "    ax = axes[i]\n",
    "    im = images[i]\n",
    "    ishow = ax.imshow(im, origin='lower')\n",
    "    plt.colorbar(ishow, ax=ax)\n",
    "    ax.set_title(titles[i])"
   ]
  },
  {
   "cell_type": "code",
   "execution_count": null,
   "id": "283845f2-9154-44ab-bb3a-74143ceb9c9b",
   "metadata": {},
   "outputs": [],
   "source": [
    "bb = imap.get_basis()\n",
    "print(vars(basis).keys())"
   ]
  },
  {
   "cell_type": "code",
   "execution_count": null,
   "id": "d5e9c314-d4ad-48a1-ac93-4721adafa4c7",
   "metadata": {},
   "outputs": [],
   "source": []
  },
  {
   "cell_type": "code",
   "execution_count": null,
   "id": "fa0d76fc-7216-4b0d-8cc1-cc395231c0ab",
   "metadata": {},
   "outputs": [],
   "source": [
    "X, Y = utils.build_map_grid(nx, ny)"
   ]
  },
  {
   "cell_type": "code",
   "execution_count": null,
   "id": "4af7ac85-5e58-4ac1-a77a-f4c73ce0b722",
   "metadata": {},
   "outputs": [],
   "source": [
    "args = [X, Y, *func_args]\n",
    "bim = func(*args)"
   ]
  },
  {
   "cell_type": "code",
   "execution_count": null,
   "id": "34d1ff8d-9c64-4746-86c4-4ebbe8c33563",
   "metadata": {},
   "outputs": [],
   "source": [
    "plt.imshow(bim, origin='lower')\n",
    "plt.colorbar()\n",
    "plt.title('Basis function 00')"
   ]
  },
  {
   "cell_type": "markdown",
   "id": "9da52020-3121-414e-9b44-6595bae2b3eb",
   "metadata": {},
   "source": [
    "## Transform the coordinates:"
   ]
  },
  {
   "cell_type": "code",
   "execution_count": null,
   "id": "bef50f16-7ae1-453c-bc01-d1af171b92c3",
   "metadata": {},
   "outputs": [],
   "source": [
    "planes = ['disk', 'gal', 'source', 'obs']\n",
    "\n",
    "s = 12\n",
    "fig, axes = plt.subplots(nrows=2, ncols=2, figsize=(s,s), sharex=True, sharey=True)\n",
    "for i, plane in enumerate(planes):\n",
    "#     x, y = transform._disk2gal(true_pars, prev_x, prev_y)\n",
    "    x, y = transform.transform_coords(X, Y, 'disk', plane, true_pars)\n",
    "    args = [x, y, *func_args]\n",
    "    bim = func(*args)\n",
    "\n",
    "    ax = axes[i//2, i%2]\n",
    "    mesh = ax.pcolormesh(x, y, bim)\n",
    "    plt.colorbar(mesh, ax=ax)\n",
    "    ax.set_title(f'{plane} transform of basis function 00')"
   ]
  },
  {
   "cell_type": "code",
   "execution_count": null,
   "id": "03bd336a-e566-42b2-b34f-69277c95bdde",
   "metadata": {},
   "outputs": [],
   "source": [
    "N = 3\n",
    "func, func_args = bb.get_basis_func(N)\n",
    "\n",
    "planes = ['disk', 'gal', 'source', 'obs']\n",
    "\n",
    "# uniform grid for all planes\n",
    "X, Y = utils.build_map_grid(nx, ny)\n",
    "\n",
    "s = 12\n",
    "fig, axes = plt.subplots(nrows=2, ncols=2, figsize=(s,s-1), sharex=True, sharey=True)\n",
    "for i, plane in enumerate(planes):\n",
    "#     x, y = transform._disk2gal(true_pars, prev_x, prev_y)\n",
    "    xp, yp = transform.transform_coords(X, Y, plane, 'disk', true_pars)\n",
    "    args = [xp, yp, *func_args]\n",
    "    bim = func(*args)\n",
    "\n",
    "    ax = axes[i//2, i%2]\n",
    "    mesh = ax.pcolormesh(X, Y, bim)\n",
    "    plt.colorbar(mesh, ax=ax)\n",
    "    Nx, Ny = func_args[1], func_args[2]\n",
    "    ax.set_title(f'{plane} transform of basis function ({Nx},{Ny})')"
   ]
  },
  {
   "cell_type": "markdown",
   "id": "b25d704c-03be-471b-99c7-8aad44fbe639",
   "metadata": {},
   "source": [
    "## Transform the basis funcs:"
   ]
  },
  {
   "cell_type": "code",
   "execution_count": null,
   "id": "8fdd4981-ace3-4d85-aaf6-ff1fe302db46",
   "metadata": {},
   "outputs": [],
   "source": [
    "planes = ['disk', 'gal', 'source', 'obs']\n",
    "\n",
    "X, Y = utils.build_map_grid(nx, ny)\n",
    "\n",
    "s = 12\n",
    "fig, axes = plt.subplots(nrows=2, ncols=2, figsize=(s,s), sharex=True, sharey=True)\n",
    "for i, plane in enumerate(planes):\n",
    "#     x, y = transform._disk2gal(true_pars, prev_x, prev_y)\n",
    "    x, y = transform.transform_coords(X, Y, 'obs', plane, true_pars)\n",
    "    args = [x, y, *func_args]\n",
    "    bim = func(*args)\n",
    "\n",
    "    ax = axes[i//2, i%2]\n",
    "    mesh = ax.pcolormesh(x, y, bim)\n",
    "    plt.colorbar(mesh, ax=ax)\n",
    "    ax.set_title(f'{plane} transform of basis function 00')"
   ]
  },
  {
   "cell_type": "code",
   "execution_count": null,
   "id": "b36f63f2-8ff7-4286-a2b4-f6a92d290b0a",
   "metadata": {},
   "outputs": [],
   "source": [
    "# b_disk = func(*[X, Y, *func_args]).reshape(nx*ny)\n",
    "# plt.plot(b_disk)\n",
    "# plt.title('disk')\n",
    "\n",
    "Xdisk, Ydisk = utils.build_map_grid(5, 5)\n",
    "Bdisk = func(*[Xdisk, Ydisk, *func_args])\n",
    "plt.pcolormesh(Xdisk, Ydisk, Bdisk)\n",
    "plt.gcf().set_size_inches(4,4)\n",
    "print(Xdisk)"
   ]
  },
  {
   "cell_type": "code",
   "execution_count": null,
   "id": "08667bce-bbfa-41f8-a65e-e5a7130567ee",
   "metadata": {},
   "outputs": [],
   "source": [
    "plt.imshow(Bdisk, origin='lower')"
   ]
  },
  {
   "cell_type": "code",
   "execution_count": null,
   "id": "7ae41219-b406-4961-8a67-95a1272d883d",
   "metadata": {},
   "outputs": [],
   "source": []
  }
 ],
 "metadata": {
  "kernelspec": {
   "display_name": "Python 3 (ipykernel)",
   "language": "python",
   "name": "python3"
  },
  "language_info": {
   "codemirror_mode": {
    "name": "ipython",
    "version": 3
   },
   "file_extension": ".py",
   "mimetype": "text/x-python",
   "name": "python",
   "nbconvert_exporter": "python",
   "pygments_lexer": "ipython3",
   "version": "3.9.7"
  }
 },
 "nbformat": 4,
 "nbformat_minor": 5
}
